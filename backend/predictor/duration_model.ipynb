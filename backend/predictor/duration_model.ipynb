{
 "cells": [
  {
   "cell_type": "code",
   "execution_count": 3,
   "id": "d103d4ce",
   "metadata": {},
   "outputs": [],
   "source": [
    "import findspark\n",
    "findspark.init()\n",
    "\n",
    "from pyspark.sql import SparkSession\n",
    "from pyspark.sql.functions import *\n",
    "from pyspark.ml import Pipeline\n",
    "from pyspark.sql.functions import col, to_timestamp, unix_timestamp\n",
    "from pyspark.sql.types import DoubleType\n",
    "\n",
    "\n",
    "spark = SparkSession.builder \\\n",
    "    .appName(\"US Accidents Severity Prediction\") \\\n",
    "    .master(\"local[*]\") \\\n",
    "    .config(\"spark.driver.memory\", \"8g\") \\\n",
    "    .config(\"spark.executor.memory\", \"8g\") \\\n",
    "    .config(\"spark.sql.shuffle.partitions\", \"50\") \\\n",
    "    .config(\"spark.memory.fraction\", \"0.8\") \\\n",
    "    .getOrCreate()\n"
   ]
  },
  {
   "cell_type": "code",
   "execution_count": 4,
   "id": "f82a7bd2",
   "metadata": {},
   "outputs": [
    {
     "name": "stderr",
     "output_type": "stream",
     "text": [
      "                                                                                \r"
     ]
    }
   ],
   "source": [
    "df = spark.read \\\n",
    "    .option(\"header\", \"true\") \\\n",
    "    .option(\"inferSchema\", \"true\") \\\n",
    "    .csv(\"dataset.csv\")"
   ]
  },
  {
   "cell_type": "code",
   "execution_count": 5,
   "id": "888ecf82",
   "metadata": {},
   "outputs": [
    {
     "name": "stdout",
     "output_type": "stream",
     "text": [
      "+--------+-------------------+-------------------+------------------+------------------+-------+-------+--------------------+------------+-----+-------------------+--------------+-----------+------------+--------------+--------------+---------------+-----------------+--------+--------+--------------+--------------+--------------+\n",
      "|Severity|         Start_Time|           End_Time|         Start_Lat|         Start_Lng|End_Lat|End_Lng|              Street|        City|State|  Weather_Timestamp|Temperature(F)|Humidity(%)|Pressure(in)|Visibility(mi)|Wind_Direction|Wind_Speed(mph)|Weather_Condition|Crossing|Junction|Traffic_Signal|Sunrise_Sunset|Civil_Twilight|\n",
      "+--------+-------------------+-------------------+------------------+------------------+-------+-------+--------------------+------------+-----+-------------------+--------------+-----------+------------+--------------+--------------+---------------+-----------------+--------+--------+--------------+--------------+--------------+\n",
      "|       3|2016-02-08 05:46:00|2016-02-08 11:00:00|         39.865147|        -84.058723|   NULL|   NULL|              I-70 E|      Dayton|   OH|2016-02-08 05:58:00|          36.9|       91.0|       29.68|          10.0|          Calm|           NULL|       Light Rain|   false|   false|         false|         Night|         Night|\n",
      "|       2|2016-02-08 06:07:59|2016-02-08 06:37:59| 39.92805900000001|        -82.831184|   NULL|   NULL|            Brice Rd|Reynoldsburg|   OH|2016-02-08 05:51:00|          37.9|      100.0|       29.65|          10.0|          Calm|           NULL|       Light Rain|   false|   false|         false|         Night|         Night|\n",
      "|       2|2016-02-08 06:49:27|2016-02-08 07:19:27|         39.063148|        -84.032608|   NULL|   NULL|      State Route 32|Williamsburg|   OH|2016-02-08 06:56:00|          36.0|      100.0|       29.67|          10.0|            SW|            3.5|         Overcast|   false|   false|          true|         Night|         Night|\n",
      "|       3|2016-02-08 07:23:34|2016-02-08 07:53:34|         39.747753|-84.20558199999998|   NULL|   NULL|              I-75 S|      Dayton|   OH|2016-02-08 07:38:00|          35.1|       96.0|       29.64|           9.0|            SW|            4.6|    Mostly Cloudy|   false|   false|         false|         Night|           Day|\n",
      "|       2|2016-02-08 07:39:07|2016-02-08 08:09:07|         39.627781|        -84.188354|   NULL|   NULL|Miamisburg Center...|      Dayton|   OH|2016-02-08 07:53:00|          36.0|       89.0|       29.65|           6.0|            SW|            3.5|    Mostly Cloudy|   false|   false|          true|           Day|           Day|\n",
      "|       3|2016-02-08 07:44:26|2016-02-08 08:14:26|40.100590000000004|-82.92519399999998|   NULL|   NULL|      Westerville Rd| Westerville|   OH|2016-02-08 07:51:00|          37.9|       97.0|       29.63|           7.0|           SSW|            3.5|       Light Rain|   false|   false|         false|           Day|           Day|\n",
      "|       2|2016-02-08 07:59:35|2016-02-08 08:29:35|         39.758274|-84.23050699999997|   NULL|   NULL|      N Woodward Ave|      Dayton|   OH|2016-02-08 07:56:00|          34.0|      100.0|       29.66|           7.0|           WSW|            3.5|         Overcast|   false|   false|         false|           Day|           Day|\n",
      "|       3|2016-02-08 07:59:58|2016-02-08 08:29:58|         39.770382|        -84.194901|   NULL|   NULL|           N Main St|      Dayton|   OH|2016-02-08 07:56:00|          34.0|      100.0|       29.66|           7.0|           WSW|            3.5|         Overcast|   false|   false|         false|           Day|           Day|\n",
      "|       2|2016-02-08 08:00:40|2016-02-08 08:30:40|         39.778061|        -84.172005|   NULL|   NULL|      Notre Dame Ave|      Dayton|   OH|2016-02-08 07:58:00|          33.3|       99.0|       29.67|           5.0|            SW|            1.2|    Mostly Cloudy|   false|   false|         false|           Day|           Day|\n",
      "|       3|2016-02-08 08:10:04|2016-02-08 08:40:04|40.100590000000004|-82.92519399999998|   NULL|   NULL|      Westerville Rd| Westerville|   OH|2016-02-08 08:28:00|          37.4|      100.0|       29.62|           3.0|           SSW|            4.6|       Light Rain|   false|   false|         false|           Day|           Day|\n",
      "|       3|2016-02-08 08:14:42|2016-02-08 08:44:42|         39.952812|        -83.119293|   NULL|   NULL|         Outerbelt S|    Columbus|   OH|2016-02-08 07:50:00|          35.6|       93.0|       29.64|           5.0|           WNW|            5.8|             Rain|    true|    true|         false|           Day|           Day|\n",
      "|       3|2016-02-08 08:21:27|2016-02-08 08:51:27|         39.932709|         -82.83091|   NULL|   NULL|              I-70 E|Reynoldsburg|   OH|2016-02-08 08:28:00|          37.4|      100.0|       29.62|           3.0|           SSW|            4.6|       Light Rain|   false|   false|         false|           Day|           Day|\n",
      "|       2|2016-02-08 08:36:34|2016-02-08 09:06:34|         39.737633|-84.14993299999998|   NULL|   NULL|      Watervliet Ave|      Dayton|   OH|2016-02-08 08:28:00|          33.8|      100.0|       29.63|           3.0|            SW|            2.3|         Overcast|   false|   false|         false|           Day|           Day|\n",
      "|       2|2016-02-08 08:37:07|2016-02-08 09:07:07|          39.79076|        -84.241547|   NULL|   NULL|           Salem Ave|      Dayton|   OH|2016-02-08 08:56:00|          36.0|       89.0|       29.65|          10.0|            NW|            5.8|    Mostly Cloudy|   false|   false|          true|           Day|           Day|\n",
      "|       2|2016-02-08 08:39:43|2016-02-08 09:09:43|         39.972038|        -82.913521|   NULL|   NULL|          E Broad St|    Columbus|   OH|2016-02-08 08:28:00|          37.4|      100.0|       29.62|           3.0|           SSW|            4.6|       Light Rain|   false|   false|          true|           Day|           Day|\n",
      "|       2|2016-02-08 08:43:20|2016-02-08 09:13:20|         39.745888|         -84.17041|   NULL|   NULL|         Glencoe Ave|      Dayton|   OH|2016-02-08 08:28:00|          33.8|      100.0|       29.63|           3.0|            SW|            2.3|         Overcast|   false|   false|         false|           Day|           Day|\n",
      "|       2|2016-02-08 08:53:17|2016-02-08 09:23:17|         39.748329|        -84.224007|   NULL|   NULL|S James H McGee Blvd|      Dayton|   OH|2016-02-08 08:58:00|          35.6|       99.0|       29.65|           7.0|           WSW|            2.3|    Mostly Cloudy|   false|   false|         false|           Day|           Day|\n",
      "|       2|2016-02-08 09:24:37|2016-02-08 09:54:37|         39.752174|        -84.239952|   NULL|   NULL|         Delphos Ave|      Dayton|   OH|2016-02-08 08:56:00|          36.0|       89.0|       29.65|          10.0|            NW|            5.8|    Mostly Cloudy|   false|   false|         false|           Day|           Day|\n",
      "|       2|2016-02-08 09:25:17|2016-02-08 09:55:17|         39.740669|        -84.184135|   NULL|   NULL|          Rubicon St|      Dayton|   OH|2016-02-08 09:38:00|          37.4|       93.0|       29.63|          10.0|           WSW|            6.9|         Overcast|    true|   false|          true|           Day|           Day|\n",
      "|       2|2016-02-08 09:35:35|2016-02-08 10:05:35|         39.790703|        -84.244461|   NULL|   NULL|     W Hillcrest Ave|      Dayton|   OH|2016-02-08 09:56:00|          36.0|       89.0|       29.65|          10.0|          West|            6.9|    Mostly Cloudy|   false|   false|         false|           Day|           Day|\n",
      "+--------+-------------------+-------------------+------------------+------------------+-------+-------+--------------------+------------+-----+-------------------+--------------+-----------+------------+--------------+--------------+---------------+-----------------+--------+--------+--------------+--------------+--------------+\n",
      "only showing top 20 rows\n",
      "\n"
     ]
    }
   ],
   "source": [
    "df2 = df \\\n",
    "    .drop(\"ID\",\"Source\", \"Zipcode\", \"Timezone\", \"Airport_Code\", \"Amenity\", \"Wind_Chill(F)\", \"Distance(mi)\",\n",
    "          \"Bump\", \"Give_Way\", \"No_Exit\", \"Railway\", \"Description\", \"County\", \"Precipitation(in)\", \"Turning_Loop\",\n",
    "          \"Roundabout\", \"Station\", \"Stop\", \"Nautical_Twilight\", \"Astronomical_Twilight\", \"Country\", \"Traffic_Calming\")\n",
    "df2.show()"
   ]
  },
  {
   "cell_type": "code",
   "execution_count": 6,
   "id": "6fdf42f1",
   "metadata": {},
   "outputs": [
    {
     "name": "stdout",
     "output_type": "stream",
     "text": [
      "+--------+---------+---------+--------------------+------------+-----+--------------+-----------+------------+--------------+--------------+---------------+-----------------+--------+--------+--------------+--------------+--------------+--------+----+---------+-----+------------+-----------+--------+\n",
      "|Severity|Start_Lat|Start_Lng|              Street|        City|State|Temperature(F)|Humidity(%)|Pressure(in)|Visibility(mi)|Wind_Direction|Wind_Speed(mph)|Weather_Condition|Crossing|Junction|Traffic_Signal|Sunrise_Sunset|Civil_Twilight|Duration|Hour|DayOfWeek|Month|Weather_Hour|Weather_Day|TimeSlot|\n",
      "+--------+---------+---------+--------------------+------------+-----+--------------+-----------+------------+--------------+--------------+---------------+-----------------+--------+--------+--------------+--------------+--------------+--------+----+---------+-----+------------+-----------+--------+\n",
      "|       3|     39.9|    -84.1|              I-70 E|      Dayton|   OH|          36.9|       91.0|       29.68|          10.0|          Calm|           NULL|       Light Rain|   false|   false|         false|         Night|         Night|   314.0|   5|        2|    2|           5|          2|       0|\n",
      "|       2|     39.9|    -82.8|            Brice Rd|Reynoldsburg|   OH|          37.9|      100.0|       29.65|          10.0|          Calm|           NULL|       Light Rain|   false|   false|         false|         Night|         Night|    30.0|   6|        2|    2|           5|          2|       1|\n",
      "|       2|     39.1|    -84.0|      State Route 32|Williamsburg|   OH|          36.0|      100.0|       29.67|          10.0|            SW|            3.5|         Overcast|   false|   false|          true|         Night|         Night|    30.0|   6|        2|    2|           6|          2|       1|\n",
      "|       3|     39.7|    -84.2|              I-75 S|      Dayton|   OH|          35.1|       96.0|       29.64|           9.0|            SW|            4.6|    Mostly Cloudy|   false|   false|         false|         Night|           Day|    30.0|   7|        2|    2|           7|          2|       1|\n",
      "|       2|     39.6|    -84.2|Miamisburg Center...|      Dayton|   OH|          36.0|       89.0|       29.65|           6.0|            SW|            3.5|    Mostly Cloudy|   false|   false|          true|           Day|           Day|    30.0|   7|        2|    2|           7|          2|       1|\n",
      "|       3|     40.1|    -82.9|      Westerville Rd| Westerville|   OH|          37.9|       97.0|       29.63|           7.0|           SSW|            3.5|       Light Rain|   false|   false|         false|           Day|           Day|    30.0|   7|        2|    2|           7|          2|       1|\n",
      "|       2|     39.8|    -84.2|      N Woodward Ave|      Dayton|   OH|          34.0|      100.0|       29.66|           7.0|           WSW|            3.5|         Overcast|   false|   false|         false|           Day|           Day|    30.0|   7|        2|    2|           7|          2|       1|\n",
      "|       3|     39.8|    -84.2|           N Main St|      Dayton|   OH|          34.0|      100.0|       29.66|           7.0|           WSW|            3.5|         Overcast|   false|   false|         false|           Day|           Day|    30.0|   7|        2|    2|           7|          2|       1|\n",
      "|       2|     39.8|    -84.2|      Notre Dame Ave|      Dayton|   OH|          33.3|       99.0|       29.67|           5.0|            SW|            1.2|    Mostly Cloudy|   false|   false|         false|           Day|           Day|    30.0|   8|        2|    2|           7|          2|       1|\n",
      "|       3|     40.1|    -82.9|      Westerville Rd| Westerville|   OH|          37.4|      100.0|       29.62|           3.0|           SSW|            4.6|       Light Rain|   false|   false|         false|           Day|           Day|    30.0|   8|        2|    2|           8|          2|       1|\n",
      "|       3|     40.0|    -83.1|         Outerbelt S|    Columbus|   OH|          35.6|       93.0|       29.64|           5.0|           WNW|            5.8|             Rain|    true|    true|         false|           Day|           Day|    30.0|   8|        2|    2|           7|          2|       1|\n",
      "|       3|     39.9|    -82.8|              I-70 E|Reynoldsburg|   OH|          37.4|      100.0|       29.62|           3.0|           SSW|            4.6|       Light Rain|   false|   false|         false|           Day|           Day|    30.0|   8|        2|    2|           8|          2|       1|\n",
      "|       2|     39.7|    -84.1|      Watervliet Ave|      Dayton|   OH|          33.8|      100.0|       29.63|           3.0|            SW|            2.3|         Overcast|   false|   false|         false|           Day|           Day|    30.0|   8|        2|    2|           8|          2|       1|\n",
      "|       2|     39.8|    -84.2|           Salem Ave|      Dayton|   OH|          36.0|       89.0|       29.65|          10.0|            NW|            5.8|    Mostly Cloudy|   false|   false|          true|           Day|           Day|    30.0|   8|        2|    2|           8|          2|       1|\n",
      "|       2|     40.0|    -82.9|          E Broad St|    Columbus|   OH|          37.4|      100.0|       29.62|           3.0|           SSW|            4.6|       Light Rain|   false|   false|          true|           Day|           Day|    30.0|   8|        2|    2|           8|          2|       1|\n",
      "|       2|     39.7|    -84.2|         Glencoe Ave|      Dayton|   OH|          33.8|      100.0|       29.63|           3.0|            SW|            2.3|         Overcast|   false|   false|         false|           Day|           Day|    30.0|   8|        2|    2|           8|          2|       1|\n",
      "|       2|     39.7|    -84.2|S James H McGee Blvd|      Dayton|   OH|          35.6|       99.0|       29.65|           7.0|           WSW|            2.3|    Mostly Cloudy|   false|   false|         false|           Day|           Day|    30.0|   8|        2|    2|           8|          2|       1|\n",
      "|       2|     39.8|    -84.2|         Delphos Ave|      Dayton|   OH|          36.0|       89.0|       29.65|          10.0|            NW|            5.8|    Mostly Cloudy|   false|   false|         false|           Day|           Day|    30.0|   9|        2|    2|           8|          2|       1|\n",
      "|       2|     39.7|    -84.2|          Rubicon St|      Dayton|   OH|          37.4|       93.0|       29.63|          10.0|           WSW|            6.9|         Overcast|    true|   false|          true|           Day|           Day|    30.0|   9|        2|    2|           9|          2|       1|\n",
      "|       2|     39.8|    -84.2|     W Hillcrest Ave|      Dayton|   OH|          36.0|       89.0|       29.65|          10.0|          West|            6.9|    Mostly Cloudy|   false|   false|         false|           Day|           Day|    30.0|   9|        2|    2|           9|          2|       1|\n",
      "+--------+---------+---------+--------------------+------------+-----+--------------+-----------+------------+--------------+--------------+---------------+-----------------+--------+--------+--------------+--------------+--------------+--------+----+---------+-----+------------+-----------+--------+\n",
      "only showing top 20 rows\n",
      "\n"
     ]
    }
   ],
   "source": [
    "df3 = df2 \\\n",
    "    .withColumn(\"Start_TS\", to_timestamp(col(\"Start_Time\"), \"yyyy-MM-dd HH:mm:ss\")) \\\n",
    "    .withColumn(\"End_TS\", to_timestamp(col(\"End_Time\"), \"yyyy-MM-dd HH:mm:ss\")) \\\n",
    "    .withColumn(\"Duration\", ((unix_timestamp(col(\"End_TS\")) - unix_timestamp(col(\"Start_TS\"))) / 60).cast(DoubleType())) \\\n",
    "    .withColumn(\"Start_Lat\", round(col(\"Start_Lat\"), 1)) \\\n",
    "    .withColumn(\"Start_Lng\", round(col(\"Start_Lng\"), 1)) \\\n",
    "    .withColumn(\"Hour\", hour(col(\"Start_TS\"))) \\\n",
    "    .withColumn(\"DayOfWeek\", dayofweek(col(\"Start_TS\"))) \\\n",
    "    .withColumn(\"Month\", month(col(\"Start_TS\"))) \\\n",
    "    .withColumn(\"Weather_Hour\", hour(col(\"Weather_Timestamp\"))) \\\n",
    "    .withColumn(\"Weather_Day\", month(col(\"Weather_Timestamp\"))) \\\n",
    "    .withColumn(\"TimeSlot\", when((hour(col(\"Start_TS\")) >= 0) & (hour(col(\"Start_TS\")) < 6), 0) #night\n",
    "                          .when((hour(col(\"Start_TS\")) >= 6) & (hour(col(\"Start_TS\")) < 12), 1) #morning\n",
    "                          .when((hour(col(\"Start_TS\")) >= 12) & (hour(col(\"Start_TS\")) < 18), 2) #afternoon\n",
    "                          .otherwise(3)) #evening\n",
    "    \n",
    "df3 = df3.drop(\"Start_TS\", \"End_TS\", \"End_Time\", \"End_Lat\", \"End_Lng\", \"Start_Time\", \"Weather_Timestamp\")\n",
    "\n",
    "df3.show()"
   ]
  },
  {
   "cell_type": "code",
   "execution_count": null,
   "id": "8c9b0356",
   "metadata": {},
   "outputs": [
    {
     "name": "stderr",
     "output_type": "stream",
     "text": [
      "                                                                                \r"
     ]
    },
    {
     "name": "stdout",
     "output_type": "stream",
     "text": [
      "+--------+---------+---------+--------------------+------------+-----+--------------+-----------+------------+--------------+--------------+---------------+-----------------+--------+--------+--------------+--------------+--------------+----+---------+-----+------------+-----------+--------+--------------+\n",
      "|Severity|Start_Lat|Start_Lng|              Street|        City|State|Temperature(F)|Humidity(%)|Pressure(in)|Visibility(mi)|Wind_Direction|Wind_Speed(mph)|Weather_Condition|Crossing|Junction|Traffic_Signal|Sunrise_Sunset|Civil_Twilight|Hour|DayOfWeek|Month|Weather_Hour|Weather_Day|TimeSlot|Duration_Class|\n",
      "+--------+---------+---------+--------------------+------------+-----+--------------+-----------+------------+--------------+--------------+---------------+-----------------+--------+--------+--------------+--------------+--------------+----+---------+-----+------------+-----------+--------+--------------+\n",
      "|       3|     39.9|    -84.1|              I-70 E|      Dayton|   OH|          36.9|       91.0|       29.68|          10.0|          Calm|           NULL|       Light Rain|   false|   false|         false|         Night|         Night|   5|        2|    2|           5|          2|       0|             4|\n",
      "|       2|     39.9|    -82.8|            Brice Rd|Reynoldsburg|   OH|          37.9|      100.0|       29.65|          10.0|          Calm|           NULL|       Light Rain|   false|   false|         false|         Night|         Night|   6|        2|    2|           5|          2|       1|             0|\n",
      "|       2|     39.1|    -84.0|      State Route 32|Williamsburg|   OH|          36.0|      100.0|       29.67|          10.0|            SW|            3.5|         Overcast|   false|   false|          true|         Night|         Night|   6|        2|    2|           6|          2|       1|             0|\n",
      "|       3|     39.7|    -84.2|              I-75 S|      Dayton|   OH|          35.1|       96.0|       29.64|           9.0|            SW|            4.6|    Mostly Cloudy|   false|   false|         false|         Night|           Day|   7|        2|    2|           7|          2|       1|             0|\n",
      "|       2|     39.6|    -84.2|Miamisburg Center...|      Dayton|   OH|          36.0|       89.0|       29.65|           6.0|            SW|            3.5|    Mostly Cloudy|   false|   false|          true|           Day|           Day|   7|        2|    2|           7|          2|       1|             0|\n",
      "|       3|     40.1|    -82.9|      Westerville Rd| Westerville|   OH|          37.9|       97.0|       29.63|           7.0|           SSW|            3.5|       Light Rain|   false|   false|         false|           Day|           Day|   7|        2|    2|           7|          2|       1|             0|\n",
      "|       2|     39.8|    -84.2|      N Woodward Ave|      Dayton|   OH|          34.0|      100.0|       29.66|           7.0|           WSW|            3.5|         Overcast|   false|   false|         false|           Day|           Day|   7|        2|    2|           7|          2|       1|             0|\n",
      "|       3|     39.8|    -84.2|           N Main St|      Dayton|   OH|          34.0|      100.0|       29.66|           7.0|           WSW|            3.5|         Overcast|   false|   false|         false|           Day|           Day|   7|        2|    2|           7|          2|       1|             0|\n",
      "|       2|     39.8|    -84.2|      Notre Dame Ave|      Dayton|   OH|          33.3|       99.0|       29.67|           5.0|            SW|            1.2|    Mostly Cloudy|   false|   false|         false|           Day|           Day|   8|        2|    2|           7|          2|       1|             0|\n",
      "|       3|     40.1|    -82.9|      Westerville Rd| Westerville|   OH|          37.4|      100.0|       29.62|           3.0|           SSW|            4.6|       Light Rain|   false|   false|         false|           Day|           Day|   8|        2|    2|           8|          2|       1|             0|\n",
      "|       3|     40.0|    -83.1|         Outerbelt S|    Columbus|   OH|          35.6|       93.0|       29.64|           5.0|           WNW|            5.8|             Rain|    true|    true|         false|           Day|           Day|   8|        2|    2|           7|          2|       1|             0|\n",
      "|       3|     39.9|    -82.8|              I-70 E|Reynoldsburg|   OH|          37.4|      100.0|       29.62|           3.0|           SSW|            4.6|       Light Rain|   false|   false|         false|           Day|           Day|   8|        2|    2|           8|          2|       1|             0|\n",
      "|       2|     39.7|    -84.1|      Watervliet Ave|      Dayton|   OH|          33.8|      100.0|       29.63|           3.0|            SW|            2.3|         Overcast|   false|   false|         false|           Day|           Day|   8|        2|    2|           8|          2|       1|             0|\n",
      "|       2|     39.8|    -84.2|           Salem Ave|      Dayton|   OH|          36.0|       89.0|       29.65|          10.0|            NW|            5.8|    Mostly Cloudy|   false|   false|          true|           Day|           Day|   8|        2|    2|           8|          2|       1|             0|\n",
      "|       2|     40.0|    -82.9|          E Broad St|    Columbus|   OH|          37.4|      100.0|       29.62|           3.0|           SSW|            4.6|       Light Rain|   false|   false|          true|           Day|           Day|   8|        2|    2|           8|          2|       1|             0|\n",
      "|       2|     39.7|    -84.2|         Glencoe Ave|      Dayton|   OH|          33.8|      100.0|       29.63|           3.0|            SW|            2.3|         Overcast|   false|   false|         false|           Day|           Day|   8|        2|    2|           8|          2|       1|             0|\n",
      "|       2|     39.7|    -84.2|S James H McGee Blvd|      Dayton|   OH|          35.6|       99.0|       29.65|           7.0|           WSW|            2.3|    Mostly Cloudy|   false|   false|         false|           Day|           Day|   8|        2|    2|           8|          2|       1|             0|\n",
      "|       2|     39.8|    -84.2|         Delphos Ave|      Dayton|   OH|          36.0|       89.0|       29.65|          10.0|            NW|            5.8|    Mostly Cloudy|   false|   false|         false|           Day|           Day|   9|        2|    2|           8|          2|       1|             0|\n",
      "|       2|     39.7|    -84.2|          Rubicon St|      Dayton|   OH|          37.4|       93.0|       29.63|          10.0|           WSW|            6.9|         Overcast|    true|   false|          true|           Day|           Day|   9|        2|    2|           9|          2|       1|             0|\n",
      "|       2|     39.8|    -84.2|     W Hillcrest Ave|      Dayton|   OH|          36.0|       89.0|       29.65|          10.0|          West|            6.9|    Mostly Cloudy|   false|   false|         false|           Day|           Day|   9|        2|    2|           9|          2|       1|             0|\n",
      "+--------+---------+---------+--------------------+------------+-----+--------------+-----------+------------+--------------+--------------+---------------+-----------------+--------+--------+--------------+--------------+--------------+----+---------+-----+------------+-----------+--------+--------------+\n",
      "only showing top 20 rows\n",
      "\n"
     ]
    }
   ],
   "source": [
    "df3 = df3.filter(col(\"Duration\") > 0)\n",
    "\n",
    "# 3. Uç değerleri ayıkla (%99'luk dilim)\n",
    "q99 = df3.approxQuantile(\"Duration\", [0.99], 0.01)[0]\n",
    "df3 = df3.filter(col(\"Duration\") <= q99)\n",
    "\n",
    "# 4. Kategorik sınıflara böl (label sütunu olarak)\n",
    "df3 = df3.withColumn(\"Duration_Class\", \n",
    "    when(col(\"Duration\") <= 5, 0) #Very Short\n",
    "    .when(col(\"Duration\") <= 15, 1) #Short\n",
    "    .when(col(\"Duration\") <= 60, 0) #Medium\n",
    "    .when(col(\"Duration\") <= 180, 1) #Long\n",
    "    .otherwise(4) #Very Long\n",
    ")\n",
    "\n",
    "# (very short) 5 (short) 15 (medium) 60 (long) 180 (very long) ++\n",
    "# short 30 medium 120 long\n",
    "df3 = df3.drop(\"Duration\")\n",
    "\n",
    "df3.show()"
   ]
  },
  {
   "cell_type": "code",
   "execution_count": 8,
   "id": "a4029397",
   "metadata": {},
   "outputs": [
    {
     "name": "stderr",
     "output_type": "stream",
     "text": [
      "                                                                                \r"
     ]
    },
    {
     "name": "stdout",
     "output_type": "stream",
     "text": [
      "+--------+---------+---------+-----+--------------+-----------+------------+--------------+--------------+---------------+-----------------+--------+--------+--------------+--------------+--------------+----+---------+-----+------------+-----------+--------+--------------+------------+--------------+\n",
      "|Severity|Start_Lat|Start_Lng|State|Temperature(F)|Humidity(%)|Pressure(in)|Visibility(mi)|Wind_Direction|Wind_Speed(mph)|Weather_Condition|Crossing|Junction|Traffic_Signal|Sunrise_Sunset|Civil_Twilight|Hour|DayOfWeek|Month|Weather_Hour|Weather_Day|TimeSlot|Duration_Class|City_Cleaned|Street_Cleaned|\n",
      "+--------+---------+---------+-----+--------------+-----------+------------+--------------+--------------+---------------+-----------------+--------+--------+--------------+--------------+--------------+----+---------+-----+------------+-----------+--------+--------------+------------+--------------+\n",
      "|       3|     39.9|    -84.1|   OH|          36.9|       91.0|       29.68|          10.0|          Calm|           NULL|       Light Rain|   false|   false|         false|         Night|         Night|   5|        2|    2|           5|          2|       0|             4|      Dayton|        I-70 E|\n",
      "|       2|     39.9|    -82.8|   OH|          37.9|      100.0|       29.65|          10.0|          Calm|           NULL|       Light Rain|   false|   false|         false|         Night|         Night|   6|        2|    2|           5|          2|       1|             0|       Other|         Other|\n",
      "|       2|     39.1|    -84.0|   OH|          36.0|      100.0|       29.67|          10.0|            SW|            3.5|         Overcast|   false|   false|          true|         Night|         Night|   6|        2|    2|           6|          2|       1|             0|       Other|         Other|\n",
      "|       3|     39.7|    -84.2|   OH|          35.1|       96.0|       29.64|           9.0|            SW|            4.6|    Mostly Cloudy|   false|   false|         false|         Night|           Day|   7|        2|    2|           7|          2|       1|             0|      Dayton|        I-75 S|\n",
      "|       2|     39.6|    -84.2|   OH|          36.0|       89.0|       29.65|           6.0|            SW|            3.5|    Mostly Cloudy|   false|   false|          true|           Day|           Day|   7|        2|    2|           7|          2|       1|             0|      Dayton|         Other|\n",
      "|       3|     40.1|    -82.9|   OH|          37.9|       97.0|       29.63|           7.0|           SSW|            3.5|       Light Rain|   false|   false|         false|           Day|           Day|   7|        2|    2|           7|          2|       1|             0|       Other|         Other|\n",
      "|       2|     39.8|    -84.2|   OH|          34.0|      100.0|       29.66|           7.0|           WSW|            3.5|         Overcast|   false|   false|         false|           Day|           Day|   7|        2|    2|           7|          2|       1|             0|      Dayton|         Other|\n",
      "|       3|     39.8|    -84.2|   OH|          34.0|      100.0|       29.66|           7.0|           WSW|            3.5|         Overcast|   false|   false|         false|           Day|           Day|   7|        2|    2|           7|          2|       1|             0|      Dayton|         Other|\n",
      "|       2|     39.8|    -84.2|   OH|          33.3|       99.0|       29.67|           5.0|            SW|            1.2|    Mostly Cloudy|   false|   false|         false|           Day|           Day|   8|        2|    2|           7|          2|       1|             0|      Dayton|         Other|\n",
      "|       3|     40.1|    -82.9|   OH|          37.4|      100.0|       29.62|           3.0|           SSW|            4.6|       Light Rain|   false|   false|         false|           Day|           Day|   8|        2|    2|           8|          2|       1|             0|       Other|         Other|\n",
      "|       3|     40.0|    -83.1|   OH|          35.6|       93.0|       29.64|           5.0|           WNW|            5.8|             Rain|    true|    true|         false|           Day|           Day|   8|        2|    2|           7|          2|       1|             0|    Columbus|         Other|\n",
      "|       3|     39.9|    -82.8|   OH|          37.4|      100.0|       29.62|           3.0|           SSW|            4.6|       Light Rain|   false|   false|         false|           Day|           Day|   8|        2|    2|           8|          2|       1|             0|       Other|        I-70 E|\n",
      "|       2|     39.7|    -84.1|   OH|          33.8|      100.0|       29.63|           3.0|            SW|            2.3|         Overcast|   false|   false|         false|           Day|           Day|   8|        2|    2|           8|          2|       1|             0|      Dayton|         Other|\n",
      "|       2|     39.8|    -84.2|   OH|          36.0|       89.0|       29.65|          10.0|            NW|            5.8|    Mostly Cloudy|   false|   false|          true|           Day|           Day|   8|        2|    2|           8|          2|       1|             0|      Dayton|         Other|\n",
      "|       2|     40.0|    -82.9|   OH|          37.4|      100.0|       29.62|           3.0|           SSW|            4.6|       Light Rain|   false|   false|          true|           Day|           Day|   8|        2|    2|           8|          2|       1|             0|    Columbus|         Other|\n",
      "|       2|     39.7|    -84.2|   OH|          33.8|      100.0|       29.63|           3.0|            SW|            2.3|         Overcast|   false|   false|         false|           Day|           Day|   8|        2|    2|           8|          2|       1|             0|      Dayton|         Other|\n",
      "|       2|     39.7|    -84.2|   OH|          35.6|       99.0|       29.65|           7.0|           WSW|            2.3|    Mostly Cloudy|   false|   false|         false|           Day|           Day|   8|        2|    2|           8|          2|       1|             0|      Dayton|         Other|\n",
      "|       2|     39.8|    -84.2|   OH|          36.0|       89.0|       29.65|          10.0|            NW|            5.8|    Mostly Cloudy|   false|   false|         false|           Day|           Day|   9|        2|    2|           8|          2|       1|             0|      Dayton|         Other|\n",
      "|       2|     39.7|    -84.2|   OH|          37.4|       93.0|       29.63|          10.0|           WSW|            6.9|         Overcast|    true|   false|          true|           Day|           Day|   9|        2|    2|           9|          2|       1|             0|      Dayton|         Other|\n",
      "|       2|     39.8|    -84.2|   OH|          36.0|       89.0|       29.65|          10.0|          West|            6.9|    Mostly Cloudy|   false|   false|         false|           Day|           Day|   9|        2|    2|           9|          2|       1|             0|      Dayton|         Other|\n",
      "+--------+---------+---------+-----+--------------+-----------+------------+--------------+--------------+---------------+-----------------+--------+--------+--------------+--------------+--------------+----+---------+-----+------------+-----------+--------+--------------+------------+--------------+\n",
      "only showing top 20 rows\n",
      "\n"
     ]
    }
   ],
   "source": [
    "# Hangi sütunları işleyeceğimizi tanımla\n",
    "columns_to_clean = [\"City\", \"Street\"]\n",
    "top_n = 128\n",
    "\n",
    "\n",
    "# Sık geçen değerleri belirleyip \"Other\" ile gruplayan fonksiyon\n",
    "def clean_column(df, column_name, top_n=128):\n",
    "    top_values_df = df.groupBy(column_name).count().orderBy(col(\"count\").desc()).limit(top_n)\n",
    "    top_values_list = [row[column_name] for row in top_values_df.collect()]\n",
    "   \n",
    "    cleaned_col_name = f\"{column_name}_Cleaned\"\n",
    "    df = df.withColumn(\n",
    "        cleaned_col_name,\n",
    "        when(col(column_name).isin(top_values_list), col(column_name)).otherwise(\"Other\")\n",
    "    )\n",
    "    return df\n",
    "\n",
    "# Ön işleme (zaten yaptığın kısım)\n",
    "for col_name in columns_to_clean:\n",
    "    df3 = clean_column(df3, col_name, top_n=top_n)\n",
    "\n",
    "df4 = df3.drop(\"Street\", \"City\")\n",
    "df4.show()\n"
   ]
  },
  {
   "cell_type": "code",
   "execution_count": 17,
   "id": "c596595c",
   "metadata": {},
   "outputs": [
    {
     "name": "stdout",
     "output_type": "stream",
     "text": [
      "+--------+---------+---------+-----+--------------+-----------+------------+--------------+--------------+---------------+-----------------+--------------+--------------+----+---------+-----+------------+-----------+--------+--------------+------------+--------------+------------+\n",
      "|Severity|Start_Lat|Start_Lng|State|Temperature(F)|Humidity(%)|Pressure(in)|Visibility(mi)|Wind_Direction|Wind_Speed(mph)|Weather_Condition|Sunrise_Sunset|Civil_Twilight|Hour|DayOfWeek|Month|Weather_Hour|Weather_Day|TimeSlot|Duration_Class|City_Cleaned|Street_Cleaned|Junction_Bin|\n",
      "+--------+---------+---------+-----+--------------+-----------+------------+--------------+--------------+---------------+-----------------+--------------+--------------+----+---------+-----+------------+-----------+--------+--------------+------------+--------------+------------+\n",
      "|       3|     39.9|    -84.1|   OH|          36.9|       91.0|       29.68|          10.0|          Calm|           NULL|       Light Rain|         Night|         Night|   5|        2|    2|           5|          2|       0|             4|      Dayton|        I-70 E|           0|\n",
      "|       2|     39.9|    -82.8|   OH|          37.9|      100.0|       29.65|          10.0|          Calm|           NULL|       Light Rain|         Night|         Night|   6|        2|    2|           5|          2|       1|             0|       Other|         Other|           0|\n",
      "|       2|     39.1|    -84.0|   OH|          36.0|      100.0|       29.67|          10.0|            SW|            3.5|         Overcast|         Night|         Night|   6|        2|    2|           6|          2|       1|             0|       Other|         Other|           0|\n",
      "|       3|     39.7|    -84.2|   OH|          35.1|       96.0|       29.64|           9.0|            SW|            4.6|    Mostly Cloudy|         Night|           Day|   7|        2|    2|           7|          2|       1|             0|      Dayton|        I-75 S|           0|\n",
      "|       2|     39.6|    -84.2|   OH|          36.0|       89.0|       29.65|           6.0|            SW|            3.5|    Mostly Cloudy|           Day|           Day|   7|        2|    2|           7|          2|       1|             0|      Dayton|         Other|           0|\n",
      "|       3|     40.1|    -82.9|   OH|          37.9|       97.0|       29.63|           7.0|           SSW|            3.5|       Light Rain|           Day|           Day|   7|        2|    2|           7|          2|       1|             0|       Other|         Other|           0|\n",
      "|       2|     39.8|    -84.2|   OH|          34.0|      100.0|       29.66|           7.0|           WSW|            3.5|         Overcast|           Day|           Day|   7|        2|    2|           7|          2|       1|             0|      Dayton|         Other|           0|\n",
      "|       3|     39.8|    -84.2|   OH|          34.0|      100.0|       29.66|           7.0|           WSW|            3.5|         Overcast|           Day|           Day|   7|        2|    2|           7|          2|       1|             0|      Dayton|         Other|           0|\n",
      "|       2|     39.8|    -84.2|   OH|          33.3|       99.0|       29.67|           5.0|            SW|            1.2|    Mostly Cloudy|           Day|           Day|   8|        2|    2|           7|          2|       1|             0|      Dayton|         Other|           0|\n",
      "|       3|     40.1|    -82.9|   OH|          37.4|      100.0|       29.62|           3.0|           SSW|            4.6|       Light Rain|           Day|           Day|   8|        2|    2|           8|          2|       1|             0|       Other|         Other|           0|\n",
      "|       3|     40.0|    -83.1|   OH|          35.6|       93.0|       29.64|           5.0|           WNW|            5.8|             Rain|           Day|           Day|   8|        2|    2|           7|          2|       1|             0|    Columbus|         Other|           1|\n",
      "|       3|     39.9|    -82.8|   OH|          37.4|      100.0|       29.62|           3.0|           SSW|            4.6|       Light Rain|           Day|           Day|   8|        2|    2|           8|          2|       1|             0|       Other|        I-70 E|           0|\n",
      "|       2|     39.7|    -84.1|   OH|          33.8|      100.0|       29.63|           3.0|            SW|            2.3|         Overcast|           Day|           Day|   8|        2|    2|           8|          2|       1|             0|      Dayton|         Other|           0|\n",
      "|       2|     39.8|    -84.2|   OH|          36.0|       89.0|       29.65|          10.0|            NW|            5.8|    Mostly Cloudy|           Day|           Day|   8|        2|    2|           8|          2|       1|             0|      Dayton|         Other|           0|\n",
      "|       2|     40.0|    -82.9|   OH|          37.4|      100.0|       29.62|           3.0|           SSW|            4.6|       Light Rain|           Day|           Day|   8|        2|    2|           8|          2|       1|             0|    Columbus|         Other|           0|\n",
      "|       2|     39.7|    -84.2|   OH|          33.8|      100.0|       29.63|           3.0|            SW|            2.3|         Overcast|           Day|           Day|   8|        2|    2|           8|          2|       1|             0|      Dayton|         Other|           0|\n",
      "|       2|     39.7|    -84.2|   OH|          35.6|       99.0|       29.65|           7.0|           WSW|            2.3|    Mostly Cloudy|           Day|           Day|   8|        2|    2|           8|          2|       1|             0|      Dayton|         Other|           0|\n",
      "|       2|     39.8|    -84.2|   OH|          36.0|       89.0|       29.65|          10.0|            NW|            5.8|    Mostly Cloudy|           Day|           Day|   9|        2|    2|           8|          2|       1|             0|      Dayton|         Other|           0|\n",
      "|       2|     39.7|    -84.2|   OH|          37.4|       93.0|       29.63|          10.0|           WSW|            6.9|         Overcast|           Day|           Day|   9|        2|    2|           9|          2|       1|             0|      Dayton|         Other|           0|\n",
      "|       2|     39.8|    -84.2|   OH|          36.0|       89.0|       29.65|          10.0|          West|            6.9|    Mostly Cloudy|           Day|           Day|   9|        2|    2|           9|          2|       1|             0|      Dayton|         Other|           0|\n",
      "+--------+---------+---------+-----+--------------+-----------+------------+--------------+--------------+---------------+-----------------+--------------+--------------+----+---------+-----+------------+-----------+--------+--------------+------------+--------------+------------+\n",
      "only showing top 20 rows\n",
      "\n"
     ]
    }
   ],
   "source": [
    "# İşlenecek sütunları tanımla\n",
    "bool_columns_to_encode = [\"Crossing\", \"Traffic_Signal\", \"Junction\"]\n",
    "\n",
    "# Boolean değerleri 0 ve 1 olarak etiketleyen fonksiyon\n",
    "def encode_boolean_column(df, column_name):\n",
    "    binary_col_name = f\"{column_name}_Bin\"\n",
    "    df = df.withColumn(\n",
    "        binary_col_name,\n",
    "        when(col(column_name) == True, lit(1)).otherwise(lit(0))\n",
    "    )\n",
    "    return df\n",
    "\n",
    "# Uygulama\n",
    "for col_name in bool_columns_to_encode:\n",
    "    df5 = encode_boolean_column(df4, col_name)\n",
    "\n",
    "df5 = df5.drop(\"Crossing\", \"Traffic_Signal\", \"Junction\")\n",
    "df5.show()\n"
   ]
  },
  {
   "cell_type": "code",
   "execution_count": 18,
   "id": "04a224ca",
   "metadata": {},
   "outputs": [
    {
     "name": "stderr",
     "output_type": "stream",
     "text": [
      "[Stage 108:===============================================>       (20 + 3) / 23]\r"
     ]
    },
    {
     "name": "stdout",
     "output_type": "stream",
     "text": [
      "+--------+---------+---------+-----+--------------+-----------+------------+--------------+--------------+---------------+--------------+--------------+----+---------+-----+------------+-----------+--------+--------------+------------+--------------+------------+-------------------------+\n",
      "|Severity|Start_Lat|Start_Lng|State|Temperature(F)|Humidity(%)|Pressure(in)|Visibility(mi)|Wind_Direction|Wind_Speed(mph)|Sunrise_Sunset|Civil_Twilight|Hour|DayOfWeek|Month|Weather_Hour|Weather_Day|TimeSlot|Duration_Class|City_Cleaned|Street_Cleaned|Junction_Bin|Weather_Condition_Cleaned|\n",
      "+--------+---------+---------+-----+--------------+-----------+------------+--------------+--------------+---------------+--------------+--------------+----+---------+-----+------------+-----------+--------+--------------+------------+--------------+------------+-------------------------+\n",
      "|       3|     39.9|    -84.1|   OH|          36.9|       91.0|       29.68|          10.0|          Calm|           NULL|         Night|         Night|   5|        2|    2|           5|          2|       0|             4|      Dayton|        I-70 E|           0|               Light Rain|\n",
      "|       2|     39.9|    -82.8|   OH|          37.9|      100.0|       29.65|          10.0|          Calm|           NULL|         Night|         Night|   6|        2|    2|           5|          2|       1|             0|       Other|         Other|           0|               Light Rain|\n",
      "|       2|     39.1|    -84.0|   OH|          36.0|      100.0|       29.67|          10.0|            SW|            3.5|         Night|         Night|   6|        2|    2|           6|          2|       1|             0|       Other|         Other|           0|                 Overcast|\n",
      "|       3|     39.7|    -84.2|   OH|          35.1|       96.0|       29.64|           9.0|            SW|            4.6|         Night|           Day|   7|        2|    2|           7|          2|       1|             0|      Dayton|        I-75 S|           0|            Mostly Cloudy|\n",
      "|       2|     39.6|    -84.2|   OH|          36.0|       89.0|       29.65|           6.0|            SW|            3.5|           Day|           Day|   7|        2|    2|           7|          2|       1|             0|      Dayton|         Other|           0|            Mostly Cloudy|\n",
      "|       3|     40.1|    -82.9|   OH|          37.9|       97.0|       29.63|           7.0|           SSW|            3.5|           Day|           Day|   7|        2|    2|           7|          2|       1|             0|       Other|         Other|           0|               Light Rain|\n",
      "|       2|     39.8|    -84.2|   OH|          34.0|      100.0|       29.66|           7.0|           WSW|            3.5|           Day|           Day|   7|        2|    2|           7|          2|       1|             0|      Dayton|         Other|           0|                 Overcast|\n",
      "|       3|     39.8|    -84.2|   OH|          34.0|      100.0|       29.66|           7.0|           WSW|            3.5|           Day|           Day|   7|        2|    2|           7|          2|       1|             0|      Dayton|         Other|           0|                 Overcast|\n",
      "|       2|     39.8|    -84.2|   OH|          33.3|       99.0|       29.67|           5.0|            SW|            1.2|           Day|           Day|   8|        2|    2|           7|          2|       1|             0|      Dayton|         Other|           0|            Mostly Cloudy|\n",
      "|       3|     40.1|    -82.9|   OH|          37.4|      100.0|       29.62|           3.0|           SSW|            4.6|           Day|           Day|   8|        2|    2|           8|          2|       1|             0|       Other|         Other|           0|               Light Rain|\n",
      "|       3|     40.0|    -83.1|   OH|          35.6|       93.0|       29.64|           5.0|           WNW|            5.8|           Day|           Day|   8|        2|    2|           7|          2|       1|             0|    Columbus|         Other|           1|                     Rain|\n",
      "|       3|     39.9|    -82.8|   OH|          37.4|      100.0|       29.62|           3.0|           SSW|            4.6|           Day|           Day|   8|        2|    2|           8|          2|       1|             0|       Other|        I-70 E|           0|               Light Rain|\n",
      "|       2|     39.7|    -84.1|   OH|          33.8|      100.0|       29.63|           3.0|            SW|            2.3|           Day|           Day|   8|        2|    2|           8|          2|       1|             0|      Dayton|         Other|           0|                 Overcast|\n",
      "|       2|     39.8|    -84.2|   OH|          36.0|       89.0|       29.65|          10.0|            NW|            5.8|           Day|           Day|   8|        2|    2|           8|          2|       1|             0|      Dayton|         Other|           0|            Mostly Cloudy|\n",
      "|       2|     40.0|    -82.9|   OH|          37.4|      100.0|       29.62|           3.0|           SSW|            4.6|           Day|           Day|   8|        2|    2|           8|          2|       1|             0|    Columbus|         Other|           0|               Light Rain|\n",
      "|       2|     39.7|    -84.2|   OH|          33.8|      100.0|       29.63|           3.0|            SW|            2.3|           Day|           Day|   8|        2|    2|           8|          2|       1|             0|      Dayton|         Other|           0|                 Overcast|\n",
      "|       2|     39.7|    -84.2|   OH|          35.6|       99.0|       29.65|           7.0|           WSW|            2.3|           Day|           Day|   8|        2|    2|           8|          2|       1|             0|      Dayton|         Other|           0|            Mostly Cloudy|\n",
      "|       2|     39.8|    -84.2|   OH|          36.0|       89.0|       29.65|          10.0|            NW|            5.8|           Day|           Day|   9|        2|    2|           8|          2|       1|             0|      Dayton|         Other|           0|            Mostly Cloudy|\n",
      "|       2|     39.7|    -84.2|   OH|          37.4|       93.0|       29.63|          10.0|           WSW|            6.9|           Day|           Day|   9|        2|    2|           9|          2|       1|             0|      Dayton|         Other|           0|                 Overcast|\n",
      "|       2|     39.8|    -84.2|   OH|          36.0|       89.0|       29.65|          10.0|          West|            6.9|           Day|           Day|   9|        2|    2|           9|          2|       1|             0|      Dayton|         Other|           0|            Mostly Cloudy|\n",
      "+--------+---------+---------+-----+--------------+-----------+------------+--------------+--------------+---------------+--------------+--------------+----+---------+-----+------------+-----------+--------+--------------+------------+--------------+------------+-------------------------+\n",
      "only showing top 20 rows\n",
      "\n"
     ]
    },
    {
     "name": "stderr",
     "output_type": "stream",
     "text": [
      "                                                                                \r"
     ]
    }
   ],
   "source": [
    "def clean_weather_condition(df, top_n=30):\n",
    "    # Null'ları \"NULL\" stringine çevir (gruplama sırasında kolaylık)\n",
    "    df = df.withColumn(\"Weather_Condition\", when(col(\"Weather_Condition\").isNull(), \"NULL\").otherwise(col(\"Weather_Condition\")))\n",
    "\n",
    "    # En sık geçen ilk N değeri al\n",
    "    top_values_df = df.groupBy(\"Weather_Condition\").count().orderBy(col(\"count\").desc()).limit(top_n)\n",
    "    top_values_list = [row[\"Weather_Condition\"] for row in top_values_df.collect()]\n",
    "\n",
    "    # Temizlenmiş yeni sütun\n",
    "    df = df.withColumn(\n",
    "        \"Weather_Condition_Cleaned\",\n",
    "        when(col(\"Weather_Condition\").isin(top_values_list), col(\"Weather_Condition\")).otherwise(\"Other\")\n",
    "    )\n",
    "\n",
    "    # Orijinal sütunu at\n",
    "    df = df.drop(\"Weather_Condition\")\n",
    "    return df\n",
    "\n",
    "df6 = clean_weather_condition(df5)\n",
    "\n",
    "df6 = df6.drop(\"Weather_Condition\")\n",
    "df6.show()\n"
   ]
  },
  {
   "cell_type": "code",
   "execution_count": 11,
   "id": "04e24af8",
   "metadata": {},
   "outputs": [],
   "source": [
    "selected_cols = [ \"Temperature(F)\", \"Humidity(%)\", \"Pressure(in)\", \"Visibility(mi)\",\n",
    "      \"Wind_Speed(mph)\", \"Weather_Condition_Cleaned\", \"Wind_Direction\", \"Junction_Bin\", \"Duration_Class\",\"Severity\",\n",
    "      \"Civil_Twilight\", \"Sunrise_Sunset\", \"State\", \"City_Cleaned\", \"Street_Cleaned\", \n",
    "      \"DayOfWeek\", \"Start_Lat\", \"Start_Lng\", \"Hour\", \"Month\", \"TimeSlot\", \"Weather_Day\", \"Weather_Hour\"]"
   ]
  },
  {
   "cell_type": "code",
   "execution_count": 19,
   "id": "1488a1dc",
   "metadata": {},
   "outputs": [
    {
     "name": "stdout",
     "output_type": "stream",
     "text": [
      "+--------------+-----------+------------+--------------+---------------+-------------------------+--------------+------------+--------------+--------+--------------+--------------+-----+------------+--------------+---------+---------+---------+----+-----+--------+-----------+------------+\n",
      "|Temperature(F)|Humidity(%)|Pressure(in)|Visibility(mi)|Wind_Speed(mph)|Weather_Condition_Cleaned|Wind_Direction|Junction_Bin|Duration_Class|Severity|Civil_Twilight|Sunrise_Sunset|State|City_Cleaned|Street_Cleaned|DayOfWeek|Start_Lat|Start_Lng|Hour|Month|TimeSlot|Weather_Day|Weather_Hour|\n",
      "+--------------+-----------+------------+--------------+---------------+-------------------------+--------------+------------+--------------+--------+--------------+--------------+-----+------------+--------------+---------+---------+---------+----+-----+--------+-----------+------------+\n",
      "|          36.9|       91.0|       29.68|          10.0|           NULL|               Light Rain|          Calm|           0|             4|       3|         Night|         Night|   OH|      Dayton|        I-70 E|        2|     39.9|    -84.1|   5|    2|       0|          2|           5|\n",
      "|          37.9|      100.0|       29.65|          10.0|           NULL|               Light Rain|          Calm|           0|             0|       2|         Night|         Night|   OH|       Other|         Other|        2|     39.9|    -82.8|   6|    2|       1|          2|           5|\n",
      "|          36.0|      100.0|       29.67|          10.0|            3.5|                 Overcast|            SW|           0|             0|       2|         Night|         Night|   OH|       Other|         Other|        2|     39.1|    -84.0|   6|    2|       1|          2|           6|\n",
      "|          35.1|       96.0|       29.64|           9.0|            4.6|            Mostly Cloudy|            SW|           0|             0|       3|           Day|         Night|   OH|      Dayton|        I-75 S|        2|     39.7|    -84.2|   7|    2|       1|          2|           7|\n",
      "|          36.0|       89.0|       29.65|           6.0|            3.5|            Mostly Cloudy|            SW|           0|             0|       2|           Day|           Day|   OH|      Dayton|         Other|        2|     39.6|    -84.2|   7|    2|       1|          2|           7|\n",
      "|          37.9|       97.0|       29.63|           7.0|            3.5|               Light Rain|           SSW|           0|             0|       3|           Day|           Day|   OH|       Other|         Other|        2|     40.1|    -82.9|   7|    2|       1|          2|           7|\n",
      "|          34.0|      100.0|       29.66|           7.0|            3.5|                 Overcast|           WSW|           0|             0|       2|           Day|           Day|   OH|      Dayton|         Other|        2|     39.8|    -84.2|   7|    2|       1|          2|           7|\n",
      "|          34.0|      100.0|       29.66|           7.0|            3.5|                 Overcast|           WSW|           0|             0|       3|           Day|           Day|   OH|      Dayton|         Other|        2|     39.8|    -84.2|   7|    2|       1|          2|           7|\n",
      "|          33.3|       99.0|       29.67|           5.0|            1.2|            Mostly Cloudy|            SW|           0|             0|       2|           Day|           Day|   OH|      Dayton|         Other|        2|     39.8|    -84.2|   8|    2|       1|          2|           7|\n",
      "|          37.4|      100.0|       29.62|           3.0|            4.6|               Light Rain|           SSW|           0|             0|       3|           Day|           Day|   OH|       Other|         Other|        2|     40.1|    -82.9|   8|    2|       1|          2|           8|\n",
      "|          35.6|       93.0|       29.64|           5.0|            5.8|                     Rain|           WNW|           1|             0|       3|           Day|           Day|   OH|    Columbus|         Other|        2|     40.0|    -83.1|   8|    2|       1|          2|           7|\n",
      "|          37.4|      100.0|       29.62|           3.0|            4.6|               Light Rain|           SSW|           0|             0|       3|           Day|           Day|   OH|       Other|        I-70 E|        2|     39.9|    -82.8|   8|    2|       1|          2|           8|\n",
      "|          33.8|      100.0|       29.63|           3.0|            2.3|                 Overcast|            SW|           0|             0|       2|           Day|           Day|   OH|      Dayton|         Other|        2|     39.7|    -84.1|   8|    2|       1|          2|           8|\n",
      "|          36.0|       89.0|       29.65|          10.0|            5.8|            Mostly Cloudy|            NW|           0|             0|       2|           Day|           Day|   OH|      Dayton|         Other|        2|     39.8|    -84.2|   8|    2|       1|          2|           8|\n",
      "|          37.4|      100.0|       29.62|           3.0|            4.6|               Light Rain|           SSW|           0|             0|       2|           Day|           Day|   OH|    Columbus|         Other|        2|     40.0|    -82.9|   8|    2|       1|          2|           8|\n",
      "|          33.8|      100.0|       29.63|           3.0|            2.3|                 Overcast|            SW|           0|             0|       2|           Day|           Day|   OH|      Dayton|         Other|        2|     39.7|    -84.2|   8|    2|       1|          2|           8|\n",
      "|          35.6|       99.0|       29.65|           7.0|            2.3|            Mostly Cloudy|           WSW|           0|             0|       2|           Day|           Day|   OH|      Dayton|         Other|        2|     39.7|    -84.2|   8|    2|       1|          2|           8|\n",
      "|          36.0|       89.0|       29.65|          10.0|            5.8|            Mostly Cloudy|            NW|           0|             0|       2|           Day|           Day|   OH|      Dayton|         Other|        2|     39.8|    -84.2|   9|    2|       1|          2|           8|\n",
      "|          37.4|       93.0|       29.63|          10.0|            6.9|                 Overcast|           WSW|           0|             0|       2|           Day|           Day|   OH|      Dayton|         Other|        2|     39.7|    -84.2|   9|    2|       1|          2|           9|\n",
      "|          36.0|       89.0|       29.65|          10.0|            6.9|            Mostly Cloudy|          West|           0|             0|       2|           Day|           Day|   OH|      Dayton|         Other|        2|     39.8|    -84.2|   9|    2|       1|          2|           9|\n",
      "+--------------+-----------+------------+--------------+---------------+-------------------------+--------------+------------+--------------+--------+--------------+--------------+-----+------------+--------------+---------+---------+---------+----+-----+--------+-----------+------------+\n",
      "only showing top 20 rows\n",
      "\n"
     ]
    }
   ],
   "source": [
    "from pyspark.ml.feature import StringIndexer, VectorAssembler\n",
    "from pyspark.ml.classification import RandomForestClassifier\n",
    "\n",
    "df_selected = df6.select(*selected_cols)\n",
    "\n",
    "categorical_cols = [\n",
    "    \"Wind_Direction\", \"Civil_Twilight\", \"Weather_Condition_Cleaned\",\n",
    "    \"Sunrise_Sunset\", \"State\", \"City_Cleaned\", \"Street_Cleaned\"\n",
    "]\n",
    "\n",
    "indexers = [\n",
    "    StringIndexer(inputCol=col, outputCol=col + \"_Idx\", handleInvalid=\"keep\")\n",
    "    for col in categorical_cols\n",
    "]\n",
    "\n",
    "feature_cols = [\"Start_Lat\", \"Start_Lng\", \"State_Idx\",\"Temperature(F)\", \"Humidity(%)\",\"Pressure(in)\",\"Visibility(mi)\",\n",
    "\"Wind_Direction_Idx\",\"Wind_Speed(mph)\",\"Sunrise_Sunset_Idx\",\"Civil_Twilight_Idx\",\"Hour\",\"DayOfWeek\",\"Month\",\"Weather_Hour\",\n",
    "\"Weather_Day\",\"TimeSlot\",\"Duration_Class\",\"City_Cleaned_Idx\",\"Street_Cleaned_Idx\",\"Junction_Bin\",\"Weather_Condition_Cleaned_Idx\"]\n",
    "\n",
    "assembler = VectorAssembler(\n",
    "    inputCols=feature_cols,\n",
    "    outputCol=\"features\",\n",
    "    handleInvalid=\"skip\"\n",
    ")\n",
    "\n",
    "rf = RandomForestClassifier(\n",
    "    labelCol=\"Duration_Class\",\n",
    "    featuresCol=\"features\",\n",
    "    numTrees=20,\n",
    "    maxBins=216\n",
    ")\n",
    "\n",
    "df_selected.show()"
   ]
  },
  {
   "cell_type": "code",
   "execution_count": 20,
   "id": "7c876fc8",
   "metadata": {},
   "outputs": [
    {
     "name": "stderr",
     "output_type": "stream",
     "text": [
      "[Stage 113:====================================================>  (22 + 1) / 23]\r"
     ]
    },
    {
     "name": "stdout",
     "output_type": "stream",
     "text": [
      "+--------------+-----------+------------+--------------+---------------+-------------------------+--------------+------------+--------------+--------+--------------+--------------+-----+------------+--------------+---------+---------+---------+----+-----+--------+-----------+------------+\n",
      "|Temperature(F)|Humidity(%)|Pressure(in)|Visibility(mi)|Wind_Speed(mph)|Weather_Condition_Cleaned|Wind_Direction|Junction_Bin|Duration_Class|Severity|Civil_Twilight|Sunrise_Sunset|State|City_Cleaned|Street_Cleaned|DayOfWeek|Start_Lat|Start_Lng|Hour|Month|TimeSlot|Weather_Day|Weather_Hour|\n",
      "+--------------+-----------+------------+--------------+---------------+-------------------------+--------------+------------+--------------+--------+--------------+--------------+-----+------------+--------------+---------+---------+---------+----+-----+--------+-----------+------------+\n",
      "|          36.0|      100.0|       29.67|          10.0|            3.5|                 Overcast|            SW|           0|             0|       2|         Night|         Night|   OH|       Other|         Other|        2|     39.1|    -84.0|   6|    2|       1|          2|           6|\n",
      "|          35.1|       96.0|       29.64|           9.0|            4.6|            Mostly Cloudy|            SW|           0|             0|       3|           Day|         Night|   OH|      Dayton|        I-75 S|        2|     39.7|    -84.2|   7|    2|       1|          2|           7|\n",
      "|          36.0|       89.0|       29.65|           6.0|            3.5|            Mostly Cloudy|            SW|           0|             0|       2|           Day|           Day|   OH|      Dayton|         Other|        2|     39.6|    -84.2|   7|    2|       1|          2|           7|\n",
      "|          37.9|       97.0|       29.63|           7.0|            3.5|               Light Rain|           SSW|           0|             0|       3|           Day|           Day|   OH|       Other|         Other|        2|     40.1|    -82.9|   7|    2|       1|          2|           7|\n",
      "|          34.0|      100.0|       29.66|           7.0|            3.5|                 Overcast|           WSW|           0|             0|       2|           Day|           Day|   OH|      Dayton|         Other|        2|     39.8|    -84.2|   7|    2|       1|          2|           7|\n",
      "|          34.0|      100.0|       29.66|           7.0|            3.5|                 Overcast|           WSW|           0|             0|       3|           Day|           Day|   OH|      Dayton|         Other|        2|     39.8|    -84.2|   7|    2|       1|          2|           7|\n",
      "|          33.3|       99.0|       29.67|           5.0|            1.2|            Mostly Cloudy|            SW|           0|             0|       2|           Day|           Day|   OH|      Dayton|         Other|        2|     39.8|    -84.2|   8|    2|       1|          2|           7|\n",
      "|          37.4|      100.0|       29.62|           3.0|            4.6|               Light Rain|           SSW|           0|             0|       3|           Day|           Day|   OH|       Other|         Other|        2|     40.1|    -82.9|   8|    2|       1|          2|           8|\n",
      "|          35.6|       93.0|       29.64|           5.0|            5.8|                     Rain|           WNW|           1|             0|       3|           Day|           Day|   OH|    Columbus|         Other|        2|     40.0|    -83.1|   8|    2|       1|          2|           7|\n",
      "|          37.4|      100.0|       29.62|           3.0|            4.6|               Light Rain|           SSW|           0|             0|       3|           Day|           Day|   OH|       Other|        I-70 E|        2|     39.9|    -82.8|   8|    2|       1|          2|           8|\n",
      "|          33.8|      100.0|       29.63|           3.0|            2.3|                 Overcast|            SW|           0|             0|       2|           Day|           Day|   OH|      Dayton|         Other|        2|     39.7|    -84.1|   8|    2|       1|          2|           8|\n",
      "|          36.0|       89.0|       29.65|          10.0|            5.8|            Mostly Cloudy|            NW|           0|             0|       2|           Day|           Day|   OH|      Dayton|         Other|        2|     39.8|    -84.2|   8|    2|       1|          2|           8|\n",
      "|          37.4|      100.0|       29.62|           3.0|            4.6|               Light Rain|           SSW|           0|             0|       2|           Day|           Day|   OH|    Columbus|         Other|        2|     40.0|    -82.9|   8|    2|       1|          2|           8|\n",
      "|          33.8|      100.0|       29.63|           3.0|            2.3|                 Overcast|            SW|           0|             0|       2|           Day|           Day|   OH|      Dayton|         Other|        2|     39.7|    -84.2|   8|    2|       1|          2|           8|\n",
      "|          35.6|       99.0|       29.65|           7.0|            2.3|            Mostly Cloudy|           WSW|           0|             0|       2|           Day|           Day|   OH|      Dayton|         Other|        2|     39.7|    -84.2|   8|    2|       1|          2|           8|\n",
      "|          36.0|       89.0|       29.65|          10.0|            5.8|            Mostly Cloudy|            NW|           0|             0|       2|           Day|           Day|   OH|      Dayton|         Other|        2|     39.8|    -84.2|   9|    2|       1|          2|           8|\n",
      "|          37.4|       93.0|       29.63|          10.0|            6.9|                 Overcast|           WSW|           0|             0|       2|           Day|           Day|   OH|      Dayton|         Other|        2|     39.7|    -84.2|   9|    2|       1|          2|           9|\n",
      "|          36.0|       89.0|       29.65|          10.0|            6.9|            Mostly Cloudy|          West|           0|             0|       2|           Day|           Day|   OH|      Dayton|         Other|        2|     39.8|    -84.2|   9|    2|       1|          2|           9|\n",
      "|          33.8|      100.0|       29.62|           2.0|            4.6|               Light Snow|           NNW|           0|             0|       2|           Day|           Day|   OH|    Columbus|         Other|        2|     40.1|    -82.9|  10|    2|       1|          2|          10|\n",
      "|          36.0|       89.0|       29.65|          10.0|            6.9|            Mostly Cloudy|          West|           0|             0|       2|           Day|           Day|   OH|      Dayton|         Other|        2|     39.8|    -84.2|  10|    2|       1|          2|           9|\n",
      "+--------------+-----------+------------+--------------+---------------+-------------------------+--------------+------------+--------------+--------+--------------+--------------+-----+------------+--------------+---------+---------+---------+----+-----+--------+-----------+------------+\n",
      "only showing top 20 rows\n",
      "\n"
     ]
    },
    {
     "name": "stderr",
     "output_type": "stream",
     "text": [
      "                                                                                \r"
     ]
    }
   ],
   "source": [
    "# 9. NA temizliği ve veri bölme\n",
    "df_no_na = df_selected.dropna().cache()\n",
    "train, test = df_no_na.randomSplit([0.8, 0.2], seed=42)\n",
    "\n",
    "df_no_na.show()"
   ]
  },
  {
   "cell_type": "code",
   "execution_count": 21,
   "id": "2a6465e7",
   "metadata": {},
   "outputs": [
    {
     "name": "stderr",
     "output_type": "stream",
     "text": [
      "                                                                                \r"
     ]
    }
   ],
   "source": [
    "# 8. Pipeline\n",
    "pipeline = Pipeline(stages=indexers + [assembler, rf])\n",
    "model = pipeline.fit(df_no_na)"
   ]
  },
  {
   "cell_type": "code",
   "execution_count": 22,
   "id": "89ad001d",
   "metadata": {},
   "outputs": [
    {
     "name": "stderr",
     "output_type": "stream",
     "text": [
      "[Stage 159:====================================================>  (22 + 1) / 23]\r"
     ]
    },
    {
     "name": "stdout",
     "output_type": "stream",
     "text": [
      "Accuracy: 0.9300\n",
      "Weighted Precision: 0.9389\n",
      "Weighted Recall: 0.9300\n",
      "F1 Score: 0.9211\n"
     ]
    },
    {
     "name": "stderr",
     "output_type": "stream",
     "text": [
      "                                                                                \r"
     ]
    }
   ],
   "source": [
    "from pyspark.ml.evaluation import MulticlassClassificationEvaluator\n",
    "# 11. Tahmin üret\n",
    "predictions = model.transform(test)\n",
    "df_no_na.unpersist()\n",
    "\n",
    "evaluator = MulticlassClassificationEvaluator(labelCol=\"Duration_Class\", predictionCol=\"prediction\")\n",
    "\n",
    "accuracy = evaluator.setMetricName(\"accuracy\").evaluate(predictions)\n",
    "precision = evaluator.setMetricName(\"weightedPrecision\").evaluate(predictions)\n",
    "recall = evaluator.setMetricName(\"weightedRecall\").evaluate(predictions)\n",
    "f1 = evaluator.setMetricName(\"f1\").evaluate(predictions)\n",
    "\n",
    "print(f\"Accuracy: {accuracy:.4f}\")\n",
    "print(f\"Weighted Precision: {precision:.4f}\")\n",
    "print(f\"Weighted Recall: {recall:.4f}\")\n",
    "print(f\"F1 Score: {f1:.4f}\")"
   ]
  },
  {
   "cell_type": "code",
   "execution_count": 23,
   "id": "35ad361a",
   "metadata": {},
   "outputs": [],
   "source": [
    "model.write().overwrite().save(\"models/us_accidents_duration_rf\")"
   ]
  }
 ],
 "metadata": {
  "kernelspec": {
   "display_name": ".venv",
   "language": "python",
   "name": "python3"
  },
  "language_info": {
   "codemirror_mode": {
    "name": "ipython",
    "version": 3
   },
   "file_extension": ".py",
   "mimetype": "text/x-python",
   "name": "python",
   "nbconvert_exporter": "python",
   "pygments_lexer": "ipython3",
   "version": "3.10.18"
  }
 },
 "nbformat": 4,
 "nbformat_minor": 5
}
