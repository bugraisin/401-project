{
 "cells": [
  {
   "cell_type": "code",
   "execution_count": 25,
   "id": "54f19ef9",
   "metadata": {},
   "outputs": [],
   "source": [
    "import findspark\n",
    "findspark.init()\n",
    "\n",
    "from pyspark.sql import SparkSession\n",
    "from pyspark.sql.functions import *\n",
    "from pyspark.ml.evaluation import MulticlassClassificationEvaluator\n",
    "from pyspark.ml import Pipeline\n",
    "from pyspark.sql.functions import col, to_timestamp, unix_timestamp\n",
    "from pyspark.sql.types import DoubleType\n",
    "from pyspark.sql.functions import col, when\n",
    "from pyspark.ml.feature import StringIndexer, VectorAssembler\n",
    "from pyspark.ml.classification import RandomForestClassifier\n",
    "from pyspark.ml import Pipeline\n",
    "\n",
    "\n",
    "spark = SparkSession.builder \\\n",
    "    .appName(\"US Accidents Severity Prediction\") \\\n",
    "    .master(\"local[*]\") \\\n",
    "    .getOrCreate()\n"
   ]
  },
  {
   "cell_type": "code",
   "execution_count": 26,
   "id": "d8fef79e",
   "metadata": {},
   "outputs": [
    {
     "name": "stderr",
     "output_type": "stream",
     "text": [
      "                                                                                \r"
     ]
    }
   ],
   "source": [
    "df = spark.read \\\n",
    "    .option(\"header\", \"true\") \\\n",
    "    .option(\"inferSchema\", \"true\") \\\n",
    "    .csv(\"dataset.csv\")"
   ]
  },
  {
   "cell_type": "code",
   "execution_count": 27,
   "id": "de096e2f",
   "metadata": {},
   "outputs": [],
   "source": [
    "df2 = df \\\n",
    "    .drop(\"ID\",\"Source\", \"Zipcode\", \"Timezone\", \"Airport_Code\", \"Amenity\",\n",
    "          \"Bump\", \"Give_Way\", \"No_Exit\", \"Railway\", \"Description\", \"County\",\n",
    "          \"Roundabout\", \"Station\", \"Stop\", \"Nautical_Twilight\", \"Astronomical_Twilight\", \"Country\")"
   ]
  },
  {
   "cell_type": "code",
   "execution_count": 28,
   "id": "a9b4e3fb",
   "metadata": {},
   "outputs": [
    {
     "name": "stdout",
     "output_type": "stream",
     "text": [
      "+--------+------------------+------------------+-------+-------+------------+--------------------+------------+-----+-------------------+--------------+-------------+-----------+------------+--------------+--------------+---------------+-----------------+-----------------+--------+--------+---------------+--------------+------------+--------------+--------------+--------+\n",
      "|Severity|         Start_Lat|         Start_Lng|End_Lat|End_Lng|Distance(mi)|              Street|        City|State|  Weather_Timestamp|Temperature(F)|Wind_Chill(F)|Humidity(%)|Pressure(in)|Visibility(mi)|Wind_Direction|Wind_Speed(mph)|Precipitation(in)|Weather_Condition|Crossing|Junction|Traffic_Calming|Traffic_Signal|Turning_Loop|Sunrise_Sunset|Civil_Twilight|Duration|\n",
      "+--------+------------------+------------------+-------+-------+------------+--------------------+------------+-----+-------------------+--------------+-------------+-----------+------------+--------------+--------------+---------------+-----------------+-----------------+--------+--------+---------------+--------------+------------+--------------+--------------+--------+\n",
      "|       3|         39.865147|        -84.058723|   NULL|   NULL|        0.01|              I-70 E|      Dayton|   OH|2016-02-08 05:58:00|          36.9|         NULL|       91.0|       29.68|          10.0|          Calm|           NULL|             0.02|       Light Rain|   false|   false|          false|         false|       false|         Night|         Night|   314.0|\n",
      "|       2| 39.92805900000001|        -82.831184|   NULL|   NULL|        0.01|            Brice Rd|Reynoldsburg|   OH|2016-02-08 05:51:00|          37.9|         NULL|      100.0|       29.65|          10.0|          Calm|           NULL|              0.0|       Light Rain|   false|   false|          false|         false|       false|         Night|         Night|    30.0|\n",
      "|       2|         39.063148|        -84.032608|   NULL|   NULL|        0.01|      State Route 32|Williamsburg|   OH|2016-02-08 06:56:00|          36.0|         33.3|      100.0|       29.67|          10.0|            SW|            3.5|             NULL|         Overcast|   false|   false|          false|          true|       false|         Night|         Night|    30.0|\n",
      "|       3|         39.747753|-84.20558199999998|   NULL|   NULL|        0.01|              I-75 S|      Dayton|   OH|2016-02-08 07:38:00|          35.1|         31.0|       96.0|       29.64|           9.0|            SW|            4.6|             NULL|    Mostly Cloudy|   false|   false|          false|         false|       false|         Night|           Day|    30.0|\n",
      "|       2|         39.627781|        -84.188354|   NULL|   NULL|        0.01|Miamisburg Center...|      Dayton|   OH|2016-02-08 07:53:00|          36.0|         33.3|       89.0|       29.65|           6.0|            SW|            3.5|             NULL|    Mostly Cloudy|   false|   false|          false|          true|       false|           Day|           Day|    30.0|\n",
      "|       3|40.100590000000004|-82.92519399999998|   NULL|   NULL|        0.01|      Westerville Rd| Westerville|   OH|2016-02-08 07:51:00|          37.9|         35.5|       97.0|       29.63|           7.0|           SSW|            3.5|             0.03|       Light Rain|   false|   false|          false|         false|       false|           Day|           Day|    30.0|\n",
      "|       2|         39.758274|-84.23050699999997|   NULL|   NULL|         0.0|      N Woodward Ave|      Dayton|   OH|2016-02-08 07:56:00|          34.0|         31.0|      100.0|       29.66|           7.0|           WSW|            3.5|             NULL|         Overcast|   false|   false|          false|         false|       false|           Day|           Day|    30.0|\n",
      "|       3|         39.770382|        -84.194901|   NULL|   NULL|        0.01|           N Main St|      Dayton|   OH|2016-02-08 07:56:00|          34.0|         31.0|      100.0|       29.66|           7.0|           WSW|            3.5|             NULL|         Overcast|   false|   false|          false|         false|       false|           Day|           Day|    30.0|\n",
      "|       2|         39.778061|        -84.172005|   NULL|   NULL|         0.0|      Notre Dame Ave|      Dayton|   OH|2016-02-08 07:58:00|          33.3|         NULL|       99.0|       29.67|           5.0|            SW|            1.2|             NULL|    Mostly Cloudy|   false|   false|          false|         false|       false|           Day|           Day|    30.0|\n",
      "|       3|40.100590000000004|-82.92519399999998|   NULL|   NULL|        0.01|      Westerville Rd| Westerville|   OH|2016-02-08 08:28:00|          37.4|         33.8|      100.0|       29.62|           3.0|           SSW|            4.6|             0.02|       Light Rain|   false|   false|          false|         false|       false|           Day|           Day|    30.0|\n",
      "|       3|         39.952812|        -83.119293|   NULL|   NULL|        0.01|         Outerbelt S|    Columbus|   OH|2016-02-08 07:50:00|          35.6|         30.7|       93.0|       29.64|           5.0|           WNW|            5.8|             NULL|             Rain|    true|    true|          false|         false|       false|           Day|           Day|    30.0|\n",
      "|       3|         39.932709|         -82.83091|   NULL|   NULL|        0.01|              I-70 E|Reynoldsburg|   OH|2016-02-08 08:28:00|          37.4|         33.8|      100.0|       29.62|           3.0|           SSW|            4.6|             0.02|       Light Rain|   false|   false|          false|         false|       false|           Day|           Day|    30.0|\n",
      "|       2|         39.737633|-84.14993299999998|   NULL|   NULL|         0.0|      Watervliet Ave|      Dayton|   OH|2016-02-08 08:28:00|          33.8|         NULL|      100.0|       29.63|           3.0|            SW|            2.3|             NULL|         Overcast|   false|   false|          false|         false|       false|           Day|           Day|    30.0|\n",
      "|       2|          39.79076|        -84.241547|   NULL|   NULL|        0.01|           Salem Ave|      Dayton|   OH|2016-02-08 08:56:00|          36.0|         31.1|       89.0|       29.65|          10.0|            NW|            5.8|             NULL|    Mostly Cloudy|   false|   false|          false|          true|       false|           Day|           Day|    30.0|\n",
      "|       2|         39.972038|        -82.913521|   NULL|   NULL|        0.01|          E Broad St|    Columbus|   OH|2016-02-08 08:28:00|          37.4|         33.8|      100.0|       29.62|           3.0|           SSW|            4.6|             0.02|       Light Rain|   false|   false|          false|          true|       false|           Day|           Day|    30.0|\n",
      "|       2|         39.745888|         -84.17041|   NULL|   NULL|        0.01|         Glencoe Ave|      Dayton|   OH|2016-02-08 08:28:00|          33.8|         NULL|      100.0|       29.63|           3.0|            SW|            2.3|             NULL|         Overcast|   false|   false|          false|         false|       false|           Day|           Day|    30.0|\n",
      "|       2|         39.748329|        -84.224007|   NULL|   NULL|        0.01|S James H McGee Blvd|      Dayton|   OH|2016-02-08 08:58:00|          35.6|         NULL|       99.0|       29.65|           7.0|           WSW|            2.3|             NULL|    Mostly Cloudy|   false|   false|          false|         false|       false|           Day|           Day|    30.0|\n",
      "|       2|         39.752174|        -84.239952|   NULL|   NULL|         0.0|         Delphos Ave|      Dayton|   OH|2016-02-08 08:56:00|          36.0|         31.1|       89.0|       29.65|          10.0|            NW|            5.8|             NULL|    Mostly Cloudy|   false|   false|          false|         false|       false|           Day|           Day|    30.0|\n",
      "|       2|         39.740669|        -84.184135|   NULL|   NULL|        0.01|          Rubicon St|      Dayton|   OH|2016-02-08 09:38:00|          37.4|         32.1|       93.0|       29.63|          10.0|           WSW|            6.9|             NULL|         Overcast|    true|   false|          false|          true|       false|           Day|           Day|    30.0|\n",
      "|       2|         39.790703|        -84.244461|   NULL|   NULL|        0.01|     W Hillcrest Ave|      Dayton|   OH|2016-02-08 09:56:00|          36.0|         30.3|       89.0|       29.65|          10.0|          West|            6.9|             NULL|    Mostly Cloudy|   false|   false|          false|         false|       false|           Day|           Day|    30.0|\n",
      "+--------+------------------+------------------+-------+-------+------------+--------------------+------------+-----+-------------------+--------------+-------------+-----------+------------+--------------+--------------+---------------+-----------------+-----------------+--------+--------+---------------+--------------+------------+--------------+--------------+--------+\n",
      "only showing top 20 rows\n",
      "\n"
     ]
    }
   ],
   "source": [
    "df3 = df2 \\\n",
    "    .withColumn(\"Start_TS\", to_timestamp(col(\"Start_Time\"), \"yyyy-MM-dd HH:mm:ss\")) \\\n",
    "    .withColumn(\"End_TS\", to_timestamp(col(\"End_Time\"), \"yyyy-MM-dd HH:mm:ss\")) \\\n",
    "    .withColumn(\"Duration\", ((unix_timestamp(col(\"End_TS\")) - unix_timestamp(col(\"Start_TS\"))) / 60).cast(DoubleType())) \\\n",
    "    .drop(\"Start_TS\", \"End_TS\", \"Start_Time\", \"End_Time\")\n",
    "\n",
    "df3.show()"
   ]
  },
  {
   "cell_type": "code",
   "execution_count": 29,
   "id": "40b8d0ee",
   "metadata": {},
   "outputs": [],
   "source": [
    "selected_cols = [ \"Temperature(F)\", \"Humidity(%)\", \"Pressure(in)\", \"Visibility(mi)\", \"Crossing\", \"Traffic_Signal\",\n",
    "      \"Wind_Speed(mph)\", \"Precipitation(in)\", \"Weather_Condition\", \"Wind_Direction\", \"Junction\", \"Duration\",\"Severity\",\n",
    "      \"Civil_Twilight\", \"Sunrise_Sunset\", \"State\", \"City_Cleaned\", \"Wind_Chill(F)\",  \"Street_Cleaned\" ]\n",
    "\n",
    "\n",
    "# Hangi sütunları işleyeceğimizi tanımla\n",
    "columns_to_clean = [\"City\", \"Street\"]\n",
    "top_n = 128\n",
    "\n",
    "\n",
    "# Sık geçen değerleri belirleyip \"Other\" ile gruplayan fonksiyon\n",
    "def clean_column(df, column_name, top_n=128):\n",
    "    top_values_df = df.groupBy(column_name).count().orderBy(col(\"count\").desc()).limit(top_n)\n",
    "    top_values_list = [row[column_name] for row in top_values_df.collect()]\n",
    "   \n",
    "    cleaned_col_name = f\"{column_name}_Cleaned\"\n",
    "    df = df.withColumn(\n",
    "        cleaned_col_name,\n",
    "        when(col(column_name).isin(top_values_list), col(column_name)).otherwise(\"Other\")\n",
    "    )\n",
    "    return df\n"
   ]
  },
  {
   "cell_type": "code",
   "execution_count": null,
   "id": "ce5c7c09",
   "metadata": {},
   "outputs": [
    {
     "name": "stderr",
     "output_type": "stream",
     "text": [
      "                                                                                \r"
     ]
    },
    {
     "name": "stdout",
     "output_type": "stream",
     "text": [
      "+--------------+-----------+------------+--------------+--------+--------------+---------------+-----------------+-----------------+--------------+--------+--------+--------+--------------+--------------+-----+------------+-------------+--------------+\n",
      "|Temperature(F)|Humidity(%)|Pressure(in)|Visibility(mi)|Crossing|Traffic_Signal|Wind_Speed(mph)|Precipitation(in)|Weather_Condition|Wind_Direction|Junction|Duration|Severity|Civil_Twilight|Sunrise_Sunset|State|City_Cleaned|Wind_Chill(F)|Street_Cleaned|\n",
      "+--------------+-----------+------------+--------------+--------+--------------+---------------+-----------------+-----------------+--------------+--------+--------+--------+--------------+--------------+-----+------------+-------------+--------------+\n",
      "|          36.9|       91.0|       29.68|          10.0|   false|         false|           NULL|             0.02|       Light Rain|          Calm|   false|   314.0|       3|         Night|         Night|   OH|      Dayton|         NULL|        I-70 E|\n",
      "|          37.9|      100.0|       29.65|          10.0|   false|         false|           NULL|              0.0|       Light Rain|          Calm|   false|    30.0|       2|         Night|         Night|   OH|       Other|         NULL|         Other|\n",
      "|          36.0|      100.0|       29.67|          10.0|   false|          true|            3.5|             NULL|         Overcast|            SW|   false|    30.0|       2|         Night|         Night|   OH|       Other|         33.3|         Other|\n",
      "|          35.1|       96.0|       29.64|           9.0|   false|         false|            4.6|             NULL|    Mostly Cloudy|            SW|   false|    30.0|       3|           Day|         Night|   OH|      Dayton|         31.0|        I-75 S|\n",
      "|          36.0|       89.0|       29.65|           6.0|   false|          true|            3.5|             NULL|    Mostly Cloudy|            SW|   false|    30.0|       2|           Day|           Day|   OH|      Dayton|         33.3|         Other|\n",
      "|          37.9|       97.0|       29.63|           7.0|   false|         false|            3.5|             0.03|       Light Rain|           SSW|   false|    30.0|       3|           Day|           Day|   OH|       Other|         35.5|         Other|\n",
      "|          34.0|      100.0|       29.66|           7.0|   false|         false|            3.5|             NULL|         Overcast|           WSW|   false|    30.0|       2|           Day|           Day|   OH|      Dayton|         31.0|         Other|\n",
      "|          34.0|      100.0|       29.66|           7.0|   false|         false|            3.5|             NULL|         Overcast|           WSW|   false|    30.0|       3|           Day|           Day|   OH|      Dayton|         31.0|         Other|\n",
      "|          33.3|       99.0|       29.67|           5.0|   false|         false|            1.2|             NULL|    Mostly Cloudy|            SW|   false|    30.0|       2|           Day|           Day|   OH|      Dayton|         NULL|         Other|\n",
      "|          37.4|      100.0|       29.62|           3.0|   false|         false|            4.6|             0.02|       Light Rain|           SSW|   false|    30.0|       3|           Day|           Day|   OH|       Other|         33.8|         Other|\n",
      "|          35.6|       93.0|       29.64|           5.0|    true|         false|            5.8|             NULL|             Rain|           WNW|    true|    30.0|       3|           Day|           Day|   OH|    Columbus|         30.7|         Other|\n",
      "|          37.4|      100.0|       29.62|           3.0|   false|         false|            4.6|             0.02|       Light Rain|           SSW|   false|    30.0|       3|           Day|           Day|   OH|       Other|         33.8|        I-70 E|\n",
      "|          33.8|      100.0|       29.63|           3.0|   false|         false|            2.3|             NULL|         Overcast|            SW|   false|    30.0|       2|           Day|           Day|   OH|      Dayton|         NULL|         Other|\n",
      "|          36.0|       89.0|       29.65|          10.0|   false|          true|            5.8|             NULL|    Mostly Cloudy|            NW|   false|    30.0|       2|           Day|           Day|   OH|      Dayton|         31.1|         Other|\n",
      "|          37.4|      100.0|       29.62|           3.0|   false|          true|            4.6|             0.02|       Light Rain|           SSW|   false|    30.0|       2|           Day|           Day|   OH|    Columbus|         33.8|         Other|\n",
      "|          33.8|      100.0|       29.63|           3.0|   false|         false|            2.3|             NULL|         Overcast|            SW|   false|    30.0|       2|           Day|           Day|   OH|      Dayton|         NULL|         Other|\n",
      "|          35.6|       99.0|       29.65|           7.0|   false|         false|            2.3|             NULL|    Mostly Cloudy|           WSW|   false|    30.0|       2|           Day|           Day|   OH|      Dayton|         NULL|         Other|\n",
      "|          36.0|       89.0|       29.65|          10.0|   false|         false|            5.8|             NULL|    Mostly Cloudy|            NW|   false|    30.0|       2|           Day|           Day|   OH|      Dayton|         31.1|         Other|\n",
      "|          37.4|       93.0|       29.63|          10.0|    true|          true|            6.9|             NULL|         Overcast|           WSW|   false|    30.0|       2|           Day|           Day|   OH|      Dayton|         32.1|         Other|\n",
      "|          36.0|       89.0|       29.65|          10.0|   false|         false|            6.9|             NULL|    Mostly Cloudy|          West|   false|    30.0|       2|           Day|           Day|   OH|      Dayton|         30.3|         Other|\n",
      "+--------------+-----------+------------+--------------+--------+--------------+---------------+-----------------+-----------------+--------------+--------+--------+--------+--------------+--------------+-----+------------+-------------+--------------+\n",
      "only showing top 20 rows\n",
      "\n"
     ]
    }
   ],
   "source": [
    "# Her sütun için işlemi uygula\n",
    "for col_name in columns_to_clean:\n",
    "    df3 = clean_column(df3, col_name, top_n=top_n)\n",
    "    \n",
    "df_selected = df3.select(*selected_cols)\n",
    "\n",
    "categorical_cols = [\n",
    "    \"Weather_Condition\", \"Wind_Direction\", \"Civil_Twilight\",\n",
    "    \"Sunrise_Sunset\", \"State\", \"City_Cleaned\", \"Street_Cleaned\"\n",
    "]\n",
    "\n",
    "\n",
    "indexers = [\n",
    "    StringIndexer(inputCol=col, outputCol=col + \"_Idx\", handleInvalid=\"keep\")\n",
    "    for col in categorical_cols\n",
    "]\n",
    "\n",
    "feature_cols = [\"Temperature(F)\", \"Humidity(%)\", \"Pressure(in)\", \"Visibility(mi)\",\n",
    "    \"Wind_Speed(mph)\", \"Precipitation(in)\", \"Wind_Chill(F)\", \"Traffic_Signal\",\n",
    "    \"Weather_Condition_Idx\", \"Wind_Direction_Idx\", \"Civil_Twilight_Idx\",\n",
    "    \"Sunrise_Sunset_Idx\", \"State_Idx\", \"City_Cleaned_Idx\", \"Street_Cleaned_Idx\"\n",
    "]\n",
    "\n",
    "\n",
    "assembler = VectorAssembler(\n",
    "    inputCols=feature_cols,\n",
    "    outputCol=\"features\",\n",
    "    handleInvalid=\"skip\"\n",
    ")\n",
    "\n",
    "\n",
    "rf = RandomForestClassifier(\n",
    "    labelCol=\"Severity\",\n",
    "    featuresCol=\"features\",\n",
    "    numTrees=20,\n",
    "    maxBins=216\n",
    ")\n",
    "\n",
    "df_selected.show()"
   ]
  },
  {
   "cell_type": "code",
   "execution_count": 31,
   "id": "7ff02116",
   "metadata": {},
   "outputs": [
    {
     "name": "stderr",
     "output_type": "stream",
     "text": [
      "[Stage 165:==================================================>    (21 + 2) / 23]\r"
     ]
    },
    {
     "name": "stdout",
     "output_type": "stream",
     "text": [
      "+--------------+-----------+------------+--------------+--------+--------------+---------------+-----------------+-----------------+--------------+--------+--------+--------+--------------+--------------+-----+------------+-------------+--------------+\n",
      "|Temperature(F)|Humidity(%)|Pressure(in)|Visibility(mi)|Crossing|Traffic_Signal|Wind_Speed(mph)|Precipitation(in)|Weather_Condition|Wind_Direction|Junction|Duration|Severity|Civil_Twilight|Sunrise_Sunset|State|City_Cleaned|Wind_Chill(F)|Street_Cleaned|\n",
      "+--------------+-----------+------------+--------------+--------+--------------+---------------+-----------------+-----------------+--------------+--------+--------+--------+--------------+--------------+-----+------------+-------------+--------------+\n",
      "|          37.9|       97.0|       29.63|           7.0|   false|         false|            3.5|             0.03|       Light Rain|           SSW|   false|    30.0|       3|           Day|           Day|   OH|       Other|         35.5|         Other|\n",
      "|          37.4|      100.0|       29.62|           3.0|   false|         false|            4.6|             0.02|       Light Rain|           SSW|   false|    30.0|       3|           Day|           Day|   OH|       Other|         33.8|         Other|\n",
      "|          37.4|      100.0|       29.62|           3.0|   false|         false|            4.6|             0.02|       Light Rain|           SSW|   false|    30.0|       3|           Day|           Day|   OH|       Other|         33.8|        I-70 E|\n",
      "|          37.4|      100.0|       29.62|           3.0|   false|          true|            4.6|             0.02|       Light Rain|           SSW|   false|    30.0|       2|           Day|           Day|   OH|    Columbus|         33.8|         Other|\n",
      "|          33.8|      100.0|       29.62|           2.0|   false|         false|            4.6|             0.01|       Light Snow|           NNW|   false|    30.0|       2|           Day|           Day|   OH|    Columbus|         29.6|         Other|\n",
      "|          35.1|       89.0|       29.65|           6.0|   false|          true|            8.1|             0.02|         Overcast|           WSW|   false|    30.0|       2|           Day|           Day|   OH|       Other|         28.6|         Other|\n",
      "|          37.0|       96.0|       29.63|           8.0|   false|         false|            5.8|              0.0|         Overcast|          West|   false|    45.0|       3|           Day|           Day|   OH|    Columbus|         32.4|         Other|\n",
      "|          37.9|      100.0|        29.6|           5.0|   false|         false|            4.6|             0.01|       Light Snow|          West|   false|    30.0|       2|           Day|           Day|   OH|       Other|         34.4|         Other|\n",
      "|          36.0|       86.0|       29.63|           7.0|   false|          true|            9.2|              0.0|       Light Snow|          West|   false|    45.0|       2|           Day|           Day|   OH|      Dayton|         29.0|         Other|\n",
      "|          39.9|       70.0|       29.61|          10.0|   false|          true|           11.5|              0.0|    Mostly Cloudy|           WNW|   false|    45.0|       2|           Day|           Day|   OH|      Dayton|         32.9|         Other|\n",
      "|          37.0|       89.0|       29.61|          10.0|   false|          true|            6.9|              0.0|         Overcast|          West|   false|    30.0|       2|           Day|           Day|   OH|       Other|         31.6|         Other|\n",
      "|          34.2|       97.0|       29.66|          10.0|   false|         false|            3.5|             0.02|       Light Rain|            NW|   false|    45.0|       2|           Day|           Day|   OH|      Dayton|         31.2|         Other|\n",
      "|          33.1|       92.0|       29.63|           7.0|   false|         false|            8.1|              0.0|       Light Snow|           WNW|   false|    45.0|       2|         Night|         Night|   OH|    Columbus|         26.1|         Other|\n",
      "|          33.1|       92.0|       29.63|           9.0|   false|          true|            9.2|              0.0|         Overcast|           WNW|   false|   137.0|       2|         Night|         Night|   OH|    Columbus|         25.5|         Other|\n",
      "|          22.8|       89.0|       29.69|           4.0|   false|         false|           11.5|              0.0|       Light Snow|            SW|   false|    30.0|       2|         Night|         Night|   OH|      Dayton|         11.5|         Other|\n",
      "|          26.6|       86.0|       29.62|           1.5|   false|         false|            8.1|             0.01|       Light Snow|          West|   false|    30.0|       3|         Night|         Night|   OH|    Columbus|         18.2|         Other|\n",
      "|          21.0|       85.0|       29.67|           0.8|    true|         false|            9.2|             0.01|       Light Snow|            SW|   false|    30.0|       2|         Night|         Night|   OH|       Other|         10.6|         Other|\n",
      "|          23.0|       86.0|       29.71|           3.0|    true|          true|           10.4|              0.0|       Light Snow|            SW|   false|    30.0|       2|         Night|         Night|   OH|      Dayton|         12.4|         Other|\n",
      "|          19.9|       89.0|       29.75|           1.8|   false|         false|           13.8|              0.0|       Light Snow|           WSW|   false|    30.0|       2|         Night|         Night|   OH|       Other|          6.7|         Other|\n",
      "|          25.0|       88.0|       29.65|           1.0|   false|         false|            9.2|             0.02|       Light Snow|            SW|    true|    30.0|       3|         Night|         Night|   OH|    Columbus|         15.5|         Other|\n",
      "+--------------+-----------+------------+--------------+--------+--------------+---------------+-----------------+-----------------+--------------+--------+--------+--------+--------------+--------------+-----+------------+-------------+--------------+\n",
      "only showing top 20 rows\n",
      "\n"
     ]
    },
    {
     "name": "stderr",
     "output_type": "stream",
     "text": [
      "                                                                                \r"
     ]
    }
   ],
   "source": [
    "# 9. NA temizliği ve veri bölme\n",
    "df_no_na = df_selected.dropna().cache()\n",
    "train, test = df_no_na.randomSplit([0.8, 0.2], seed=42)\n",
    "\n",
    "df_no_na.show()"
   ]
  },
  {
   "cell_type": "code",
   "execution_count": 32,
   "id": "6c3ba975",
   "metadata": {},
   "outputs": [
    {
     "name": "stderr",
     "output_type": "stream",
     "text": [
      "25/07/19 19:59:24 WARN MemoryStore: Not enough space to cache rdd_489_17 in memory! (computed 12.9 MiB so far)\n",
      "25/07/19 19:59:24 WARN MemoryStore: Not enough space to cache rdd_489_18 in memory! (computed 12.9 MiB so far)\n",
      "25/07/19 19:59:24 WARN MemoryStore: Not enough space to cache rdd_582_2 in memory! (computed 8.5 MiB so far)\n",
      "25/07/19 19:59:24 WARN BlockManager: Persisting block rdd_582_2 to disk instead.\n",
      "25/07/19 19:59:24 WARN MemoryStore: Not enough space to cache rdd_582_11 in memory! (computed 12.8 MiB so far)\n",
      "25/07/19 19:59:24 WARN BlockManager: Persisting block rdd_582_11 to disk instead.\n",
      "25/07/19 19:59:24 WARN MemoryStore: Not enough space to cache rdd_582_13 in memory! (computed 8.5 MiB so far)\n",
      "25/07/19 19:59:24 WARN BlockManager: Persisting block rdd_582_13 to disk instead.\n",
      "25/07/19 19:59:24 WARN MemoryStore: Not enough space to cache rdd_582_3 in memory! (computed 12.8 MiB so far)\n",
      "25/07/19 19:59:24 WARN MemoryStore: Not enough space to cache rdd_582_4 in memory! (computed 12.8 MiB so far)\n",
      "25/07/19 19:59:24 WARN BlockManager: Persisting block rdd_582_4 to disk instead.\n",
      "25/07/19 19:59:24 WARN BlockManager: Persisting block rdd_582_3 to disk instead.\n",
      "25/07/19 19:59:24 WARN MemoryStore: Not enough space to cache rdd_582_12 in memory! (computed 12.8 MiB so far)\n",
      "25/07/19 19:59:24 WARN BlockManager: Persisting block rdd_582_12 to disk instead.\n",
      "25/07/19 19:59:24 WARN MemoryStore: Not enough space to cache rdd_582_18 in memory! (computed 1628.1 KiB so far)\n",
      "25/07/19 19:59:24 WARN BlockManager: Persisting block rdd_582_18 to disk instead.\n",
      "25/07/19 19:59:24 WARN MemoryStore: Not enough space to cache rdd_582_17 in memory! (computed 1628.1 KiB so far)\n",
      "25/07/19 19:59:24 WARN BlockManager: Persisting block rdd_582_17 to disk instead.\n",
      "25/07/19 19:59:24 WARN MemoryStore: Not enough space to cache rdd_489_19 in memory! (computed 12.9 MiB so far)\n",
      "25/07/19 19:59:24 WARN MemoryStore: Not enough space to cache rdd_582_1 in memory! (computed 8.5 MiB so far)\n",
      "25/07/19 19:59:24 WARN BlockManager: Persisting block rdd_582_1 to disk instead.\n",
      "25/07/19 19:59:25 WARN MemoryStore: Not enough space to cache rdd_582_19 in memory! (computed 8.5 MiB so far)\n",
      "25/07/19 19:59:25 WARN MemoryStore: Not enough space to cache rdd_582_10 in memory! (computed 19.3 MiB so far)\n",
      "25/07/19 19:59:25 WARN BlockManager: Persisting block rdd_582_19 to disk instead.\n",
      "25/07/19 19:59:25 WARN BlockManager: Persisting block rdd_582_10 to disk instead.\n",
      "25/07/19 19:59:25 WARN MemoryStore: Not enough space to cache rdd_582_16 in memory! (computed 19.3 MiB so far)\n",
      "25/07/19 19:59:25 WARN BlockManager: Persisting block rdd_582_16 to disk instead.\n",
      "25/07/19 19:59:25 WARN MemoryStore: Not enough space to cache rdd_582_5 in memory! (computed 28.9 MiB so far)\n",
      "25/07/19 19:59:25 WARN BlockManager: Persisting block rdd_582_5 to disk instead.\n",
      "25/07/19 19:59:25 WARN MemoryStore: Not enough space to cache rdd_582_14 in memory! (computed 28.9 MiB so far)\n",
      "25/07/19 19:59:25 WARN BlockManager: Persisting block rdd_582_14 to disk instead.\n",
      "25/07/19 19:59:27 WARN MemoryStore: Not enough space to cache rdd_582_15 in memory! (computed 68.0 MiB so far)\n",
      "25/07/19 19:59:27 WARN BlockManager: Persisting block rdd_582_15 to disk instead.\n",
      "25/07/19 19:59:28 WARN MemoryStore: Not enough space to cache rdd_582_1 in memory! (computed 19.3 MiB so far)\n",
      "25/07/19 19:59:28 WARN MemoryStore: Not enough space to cache rdd_582_20 in memory! (computed 43.6 MiB so far)\n",
      "25/07/19 19:59:28 WARN BlockManager: Persisting block rdd_582_20 to disk instead.\n",
      "25/07/19 19:59:31 WARN MemoryStore: Not enough space to cache rdd_582_17 in memory! (computed 68.0 MiB so far)\n",
      "25/07/19 19:59:31 WARN MemoryStore: Not enough space to cache rdd_582_13 in memory! (computed 3.6 MiB so far)\n",
      "25/07/19 19:59:31 WARN MemoryStore: Not enough space to cache rdd_582_5 in memory! (computed 8.5 MiB so far)\n",
      "25/07/19 19:59:31 WARN MemoryStore: Not enough space to cache rdd_582_4 in memory! (computed 2.4 MiB so far)\n",
      "25/07/19 19:59:31 WARN MemoryStore: Not enough space to cache rdd_582_2 in memory! (computed 12.8 MiB so far)\n",
      "25/07/19 19:59:31 WARN MemoryStore: Not enough space to cache rdd_582_19 in memory! (computed 12.8 MiB so far)\n",
      "25/07/19 19:59:31 WARN MemoryStore: Not enough space to cache rdd_582_20 in memory! (computed 12.8 MiB so far)\n",
      "25/07/19 19:59:31 WARN MemoryStore: Not enough space to cache rdd_582_14 in memory! (computed 68.0 MiB so far)\n",
      "25/07/19 19:59:31 WARN MemoryStore: Not enough space to cache rdd_582_18 in memory! (computed 19.3 MiB so far)\n",
      "25/07/19 19:59:31 WARN MemoryStore: Not enough space to cache rdd_582_12 in memory! (computed 19.3 MiB so far)\n",
      "25/07/19 19:59:31 WARN MemoryStore: Not enough space to cache rdd_582_11 in memory! (computed 28.9 MiB so far)\n",
      "25/07/19 19:59:31 WARN MemoryStore: Not enough space to cache rdd_582_22 in memory! (computed 3.6 MiB so far)\n",
      "25/07/19 19:59:31 WARN BlockManager: Persisting block rdd_582_22 to disk instead.\n",
      "25/07/19 19:59:31 WARN MemoryStore: Not enough space to cache rdd_582_21 in memory! (computed 3.6 MiB so far)\n",
      "25/07/19 19:59:31 WARN BlockManager: Persisting block rdd_582_21 to disk instead.\n",
      "25/07/19 19:59:31 WARN MemoryStore: Not enough space to cache rdd_582_3 in memory! (computed 28.9 MiB so far)\n",
      "25/07/19 19:59:36 WARN MemoryStore: Not enough space to cache rdd_582_13 in memory! (computed 19.3 MiB so far)\n",
      "25/07/19 19:59:36 WARN MemoryStore: Not enough space to cache rdd_582_1 in memory! (computed 19.3 MiB so far)\n",
      "25/07/19 19:59:36 WARN MemoryStore: Not enough space to cache rdd_582_3 in memory! (computed 12.8 MiB so far)\n",
      "25/07/19 19:59:36 WARN MemoryStore: Not enough space to cache rdd_582_4 in memory! (computed 19.3 MiB so far)\n",
      "25/07/19 19:59:36 WARN MemoryStore: Not enough space to cache rdd_582_11 in memory! (computed 19.3 MiB so far)\n",
      "25/07/19 19:59:36 WARN MemoryStore: Not enough space to cache rdd_582_14 in memory! (computed 19.3 MiB so far)\n",
      "25/07/19 19:59:36 WARN MemoryStore: Not enough space to cache rdd_582_2 in memory! (computed 19.3 MiB so far)\n",
      "25/07/19 19:59:36 WARN MemoryStore: Not enough space to cache rdd_582_17 in memory! (computed 3.6 MiB so far)\n",
      "25/07/19 19:59:36 WARN MemoryStore: Not enough space to cache rdd_582_12 in memory! (computed 19.3 MiB so far)\n",
      "25/07/19 19:59:36 WARN MemoryStore: Not enough space to cache rdd_582_5 in memory! (computed 19.3 MiB so far)\n",
      "25/07/19 19:59:36 WARN MemoryStore: Not enough space to cache rdd_582_18 in memory! (computed 3.6 MiB so far)\n",
      "25/07/19 19:59:36 WARN MemoryStore: Not enough space to cache rdd_582_10 in memory! (computed 12.8 MiB so far)\n",
      "25/07/19 19:59:36 WARN MemoryStore: Not enough space to cache rdd_582_19 in memory! (computed 1076.3 KiB so far)\n",
      "25/07/19 19:59:41 WARN MemoryStore: Not enough space to cache rdd_582_5 in memory! (computed 5.4 MiB so far)\n",
      "25/07/19 19:59:41 WARN MemoryStore: Not enough space to cache rdd_582_12 in memory! (computed 8.5 MiB so far)\n",
      "25/07/19 19:59:41 WARN MemoryStore: Not enough space to cache rdd_582_4 in memory! (computed 12.8 MiB so far)\n",
      "25/07/19 19:59:41 WARN MemoryStore: Not enough space to cache rdd_582_10 in memory! (computed 12.8 MiB so far)\n",
      "25/07/19 19:59:41 WARN MemoryStore: Not enough space to cache rdd_582_3 in memory! (computed 12.8 MiB so far)\n",
      "25/07/19 19:59:41 WARN MemoryStore: Not enough space to cache rdd_582_1 in memory! (computed 12.8 MiB so far)\n",
      "25/07/19 19:59:41 WARN MemoryStore: Not enough space to cache rdd_582_2 in memory! (computed 12.8 MiB so far)\n",
      "25/07/19 19:59:41 WARN MemoryStore: Not enough space to cache rdd_582_11 in memory! (computed 12.8 MiB so far)\n",
      "25/07/19 19:59:41 WARN MemoryStore: Not enough space to cache rdd_582_14 in memory! (computed 8.5 MiB so far)\n",
      "25/07/19 19:59:41 WARN MemoryStore: Not enough space to cache rdd_582_13 in memory! (computed 12.8 MiB so far)\n",
      "25/07/19 19:59:41 WARN MemoryStore: Not enough space to cache rdd_582_17 in memory! (computed 2.4 MiB so far)\n",
      "25/07/19 19:59:41 WARN MemoryStore: Failed to reserve initial memory threshold of 1024.0 KiB for computing block rdd_582_19 in memory.\n",
      "25/07/19 19:59:41 WARN MemoryStore: Not enough space to cache rdd_582_19 in memory! (computed 384.0 B so far)\n",
      "25/07/19 19:59:41 WARN MemoryStore: Not enough space to cache rdd_582_18 in memory! (computed 1076.3 KiB so far)\n",
      "25/07/19 19:59:47 WARN MemoryStore: Not enough space to cache rdd_582_1 in memory! (computed 12.8 MiB so far)\n",
      "25/07/19 19:59:47 WARN MemoryStore: Not enough space to cache rdd_582_11 in memory! (computed 8.5 MiB so far)\n",
      "25/07/19 19:59:47 WARN MemoryStore: Not enough space to cache rdd_582_10 in memory! (computed 12.8 MiB so far)\n",
      "25/07/19 19:59:47 WARN MemoryStore: Not enough space to cache rdd_582_13 in memory! (computed 12.8 MiB so far)\n",
      "25/07/19 19:59:47 WARN MemoryStore: Not enough space to cache rdd_582_14 in memory! (computed 8.5 MiB so far)\n",
      "25/07/19 19:59:47 WARN MemoryStore: Failed to reserve initial memory threshold of 1024.0 KiB for computing block rdd_582_17 in memory.\n",
      "25/07/19 19:59:47 WARN MemoryStore: Not enough space to cache rdd_582_17 in memory! (computed 384.0 B so far)\n",
      "25/07/19 19:59:47 WARN MemoryStore: Failed to reserve initial memory threshold of 1024.0 KiB for computing block rdd_582_18 in memory.\n",
      "25/07/19 19:59:47 WARN MemoryStore: Not enough space to cache rdd_582_18 in memory! (computed 384.0 B so far)\n",
      "25/07/19 19:59:47 WARN MemoryStore: Not enough space to cache rdd_582_2 in memory! (computed 12.8 MiB so far)\n",
      "25/07/19 19:59:47 WARN MemoryStore: Not enough space to cache rdd_582_4 in memory! (computed 12.8 MiB so far)\n",
      "25/07/19 19:59:47 WARN MemoryStore: Not enough space to cache rdd_582_12 in memory! (computed 8.5 MiB so far)\n",
      "25/07/19 19:59:47 WARN MemoryStore: Not enough space to cache rdd_582_5 in memory! (computed 12.8 MiB so far)\n",
      "25/07/19 19:59:47 WARN MemoryStore: Not enough space to cache rdd_582_3 in memory! (computed 12.8 MiB so far)\n",
      "25/07/19 19:59:47 WARN MemoryStore: Failed to reserve initial memory threshold of 1024.0 KiB for computing block rdd_582_19 in memory.\n",
      "25/07/19 19:59:47 WARN MemoryStore: Not enough space to cache rdd_582_19 in memory! (computed 384.0 B so far)\n",
      "25/07/19 19:59:53 WARN MemoryStore: Not enough space to cache rdd_582_11 in memory! (computed 12.8 MiB so far)\n",
      "25/07/19 19:59:53 WARN MemoryStore: Not enough space to cache rdd_582_5 in memory! (computed 12.8 MiB so far)\n",
      "25/07/19 19:59:53 WARN MemoryStore: Failed to reserve initial memory threshold of 1024.0 KiB for computing block rdd_582_17 in memory.\n",
      "25/07/19 19:59:53 WARN MemoryStore: Not enough space to cache rdd_582_17 in memory! (computed 384.0 B so far)\n",
      "25/07/19 19:59:53 WARN MemoryStore: Not enough space to cache rdd_582_3 in memory! (computed 3.6 MiB so far)\n",
      "25/07/19 19:59:53 WARN MemoryStore: Not enough space to cache rdd_582_13 in memory! (computed 12.8 MiB so far)\n",
      "25/07/19 19:59:53 WARN MemoryStore: Not enough space to cache rdd_582_14 in memory! (computed 12.8 MiB so far)\n",
      "25/07/19 19:59:53 WARN MemoryStore: Not enough space to cache rdd_582_1 in memory! (computed 12.8 MiB so far)\n",
      "25/07/19 19:59:53 WARN MemoryStore: Not enough space to cache rdd_582_4 in memory! (computed 8.5 MiB so far)\n",
      "25/07/19 19:59:54 WARN MemoryStore: Not enough space to cache rdd_582_10 in memory! (computed 12.8 MiB so far)\n",
      "25/07/19 19:59:54 WARN MemoryStore: Not enough space to cache rdd_582_2 in memory! (computed 12.8 MiB so far)\n",
      "25/07/19 19:59:54 WARN MemoryStore: Not enough space to cache rdd_582_12 in memory! (computed 43.6 MiB so far)\n",
      "25/07/19 19:59:54 WARN MemoryStore: Not enough space to cache rdd_582_19 in memory! (computed 12.8 MiB so far)\n",
      "25/07/19 19:59:54 WARN MemoryStore: Not enough space to cache rdd_582_18 in memory! (computed 28.9 MiB so far)\n",
      "                                                                                \r"
     ]
    }
   ],
   "source": [
    "# 8. Pipeline\n",
    "pipeline = Pipeline(stages=indexers + [assembler, rf])\n",
    "model = pipeline.fit(df_no_na)"
   ]
  },
  {
   "cell_type": "code",
   "execution_count": 33,
   "id": "efc7cb3f",
   "metadata": {},
   "outputs": [],
   "source": [
    "model.write().overwrite().save(\"models/us_accidents_severity_rf\")"
   ]
  },
  {
   "cell_type": "code",
   "execution_count": 34,
   "id": "f28b0fb9",
   "metadata": {},
   "outputs": [
    {
     "name": "stderr",
     "output_type": "stream",
     "text": [
      "[Stage 248:====================================================>  (22 + 1) / 23]\r"
     ]
    },
    {
     "name": "stdout",
     "output_type": "stream",
     "text": [
      "Accuracy: 0.8523\n",
      "Weighted Precision: 0.7265\n",
      "Weighted Recall: 0.8523\n",
      "F1 Score: 0.7844\n"
     ]
    },
    {
     "name": "stderr",
     "output_type": "stream",
     "text": [
      "                                                                                \r"
     ]
    }
   ],
   "source": [
    "# 11. Tahmin üret\n",
    "predictions = model.transform(test)\n",
    "df_no_na.unpersist()\n",
    "\n",
    "evaluator = MulticlassClassificationEvaluator(labelCol=\"Severity\", predictionCol=\"prediction\")\n",
    "\n",
    "accuracy = evaluator.setMetricName(\"accuracy\").evaluate(predictions)\n",
    "precision = evaluator.setMetricName(\"weightedPrecision\").evaluate(predictions)\n",
    "recall = evaluator.setMetricName(\"weightedRecall\").evaluate(predictions)\n",
    "f1 = evaluator.setMetricName(\"f1\").evaluate(predictions)\n",
    "\n",
    "print(f\"Accuracy: {accuracy:.4f}\")\n",
    "print(f\"Weighted Precision: {precision:.4f}\")\n",
    "print(f\"Weighted Recall: {recall:.4f}\")\n",
    "print(f\"F1 Score: {f1:.4f}\")"
   ]
  }
 ],
 "metadata": {
  "kernelspec": {
   "display_name": ".venv",
   "language": "python",
   "name": "python3"
  },
  "language_info": {
   "codemirror_mode": {
    "name": "ipython",
    "version": 3
   },
   "file_extension": ".py",
   "mimetype": "text/x-python",
   "name": "python",
   "nbconvert_exporter": "python",
   "pygments_lexer": "ipython3",
   "version": "3.12.3"
  }
 },
 "nbformat": 4,
 "nbformat_minor": 5
}
